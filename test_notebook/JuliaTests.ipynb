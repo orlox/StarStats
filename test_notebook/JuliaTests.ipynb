{
 "cells": [
  {
   "cell_type": "code",
   "execution_count": null,
   "metadata": {},
   "outputs": [],
   "source": [
    "using StarStats"
   ]
  },
  {
   "cell_type": "code",
   "execution_count": null,
   "metadata": {},
   "outputs": [],
   "source": [
    "###testing to see if the version control for the notebook  works without output "
   ]
  },
  {
   "cell_type": "code",
   "execution_count": null,
   "metadata": {},
   "outputs": [],
   "source": [
    "function path_constructor(strings::Vector{String})\n",
    "    DATA_FOLDER = ENV[\"STARSTATS_TEST_DATA_FOLDER\"]\n",
    "    return DATA_FOLDER*\"/LMC/LMC_0.00_$(strings[1])_1.00.track.gz\"\n",
    "end"
   ]
  },
  {
   "cell_type": "code",
   "execution_count": null,
   "metadata": {},
   "outputs": [],
   "source": [
    "using Printf\n",
    "using BenchmarkTools\n",
    "masses = [@sprintf(\"%.3f\", x) for x in range(0.9,2.1,step=0.025)]\n",
    "\n",
    "grid = ModelDataGrid([masses],[:logM])\n",
    "load_grid(grid,path_constructor,gz_dataframe_loader_with_Teff_and_star_age_fix)\n",
    "compute_distances_and_EEPs(grid)"
   ]
  },
  {
   "cell_type": "code",
   "execution_count": null,
   "metadata": {},
   "outputs": [],
   "source": [
    "using Plots\n",
    "plot()\n",
    "for df in grid.dfs\n",
    "    plot!(df.logTeff, df.logL)\n",
    "end\n",
    "plot!()\n",
    "xflip!()"
   ]
  },
  {
   "cell_type": "code",
   "execution_count": null,
   "metadata": {},
   "outputs": [],
   "source": [
    "plot(legend=false)\n",
    "plot!(grid.dfs[14].logTeff, grid.dfs[14].logL)\n",
    "EEPs = grid.EEPs[14,:]\n",
    "for i in EEPs\n",
    "    scatter!([grid.dfs[14].logTeff[i]], [grid.dfs[14].logL[i]])\n",
    "end\n",
    "\n",
    "track = grid.dfs[14]\n",
    "xvals = LinRange(0,5,1000)\n",
    "log_Teff = get_secondary_EEP.(xvals,Ref(track),Ref(:logTeff))\n",
    "log_L = get_secondary_EEP.(xvals,Ref(track),Ref(:logL))\n",
    "\n",
    "plot!(log_Teff, log_L)"
   ]
  },
  {
   "cell_type": "code",
   "execution_count": null,
   "metadata": {},
   "outputs": [],
   "source": [
    "function path_constructor(strings::Vector{String})\n",
    "    DATA_FOLDER = ENV[\"STARSTATS_TEST_DATA_FOLDER\"]\n",
    "    return DATA_FOLDER*\"/LMC/LMC_$(strings[1])_$(strings[2])_$(strings[3]).track.gz\"\n",
    "end"
   ]
  },
  {
   "cell_type": "code",
   "execution_count": null,
   "metadata": {},
   "outputs": [],
   "source": [
    "using Printf\n",
    "using BenchmarkTools\n",
    "masses = [@sprintf(\"%.3f\", x) for x in range(0.9,2.1,step=0.025)]\n",
    "rotation = [@sprintf(\"%.2f\", x) for x in range(0.0,0.9,step=0.1)]\n",
    "overshoot = [@sprintf(\"%.2f\", x) for x in range(0.5,4.5,step=0.5)]\n",
    "grid = ModelDataGrid([rotation,masses,overshoot],\n",
    "    [:rotation,:logM,:overshoot])\n",
    "#@benchmark \n",
    "load_grid(grid,path_constructor,gz_dataframe_loader_with_Teff_and_star_age_fix); \n",
    "compute_distances_and_EEPs(grid)"
   ]
  },
  {
   "cell_type": "code",
   "execution_count": null,
   "metadata": {},
   "outputs": [],
   "source": [
    "observable_names = [:logTeff, :logL, :vrot]\n",
    "observable_values = [4.51974, 4.289877, 70.7195]\n",
    "observable_errors = [0.2, 0.2, 10]\n",
    "# potentially parallelize this\n",
    "grid_likelihood = ModelDataGridLikelihood(grid, observable_names, observable_values, observable_errors);"
   ]
  },
  {
   "cell_type": "code",
   "execution_count": null,
   "metadata": {},
   "outputs": [],
   "source": [
    "CI = credible_interval(grid_likelihood, :logM,0.68,1_000_000)"
   ]
  },
  {
   "cell_type": "code",
   "execution_count": null,
   "metadata": {},
   "outputs": [],
   "source": [
    "using Plots\n",
    "ml= marginalized_likelihood(grid_likelihood,[:logM])\n",
    "plot(grid.input_values[2], ml)\n",
    "hline!([CI[2]])\n",
    "vline!(CI[1])"
   ]
  },
  {
   "cell_type": "code",
   "execution_count": null,
   "metadata": {},
   "outputs": [],
   "source": [
    "using Plots\n",
    "\n",
    "ml= marginalized_likelihood(grid_likelihood,[:logM, :rotation])\n",
    "contour(grid.input_values[2], grid.input_values[1], ml', fill=true)"
   ]
  },
  {
   "cell_type": "code",
   "execution_count": null,
   "metadata": {},
   "outputs": [],
   "source": [
    "#for next time \n",
    "# track interpolation\n",
    "# Add comments to package source code\n",
    "\n",
    "# Turn MESA history into EEP\n",
    "#   \n",
    "# Interpolate EEP for single stars\n",
    "# Incorporate interpolated data into likelihood computation\n",
    "# Model comparisons"
   ]
  },
  {
   "cell_type": "code",
   "execution_count": null,
   "metadata": {},
   "outputs": [],
   "source": [
    "using Plots\n",
    "plot()\n",
    "xvals = LinRange(0,5, 1000)\n",
    "plot!(interpolate_grid_quantity.(Ref(grid),Ref([0.13,1.21,1.05]),:logTeff, xvals), interpolate_grid_quantity.(Ref(grid),Ref([0.13,1.21,1.05]),:logL, xvals))\n",
    "plot!(interpolate_grid_quantity.(Ref(grid),Ref([0.89,1.21,3]),:logTeff, xvals), interpolate_grid_quantity.(Ref(grid),Ref([0.89,1.21,3]),:logL, xvals))"
   ]
  },
  {
   "cell_type": "code",
   "execution_count": null,
   "metadata": {},
   "outputs": [],
   "source": [
    "using Turing, Distributions\n",
    "@model function star_model(logTeff_obs, logTeff_err, logL_obs, logL_err, vrot_obs, vrot_err, grid)\n",
    "    x ~ Uniform(0,3)\n",
    "    logM ~ Uniform(0.9, 1.5)\n",
    "    rotation ~ Uniform(0,0.9)\n",
    "    overshoot ~ Uniform(0.5,1.5)\n",
    "    logTeff = interpolate_grid_quantity(grid,[rotation, logM, overshoot],:logTeff,x)\n",
    "    logL = interpolate_grid_quantity(grid,[rotation, logM, overshoot],:logL,x)\n",
    "    vrot = interpolate_grid_quantity(grid,[rotation, logM, overshoot],:vrot,x)\n",
    "\n",
    "    logTeff_obs ~ Normal(logTeff, logTeff_err)\n",
    "    logL_obs ~ Normal(logL, logL_err)\n",
    "    vrot_obs ~ Normal(vrot, vrot_err)\n",
    "    return logTeff_obs, logL_obs, vrot_obs\n",
    "end"
   ]
  },
  {
   "cell_type": "code",
   "execution_count": null,
   "metadata": {},
   "outputs": [],
   "source": [
    "## Here needs more analysis for optimization \n",
    "chain = sample(star_model(4.51974, 0.2, 4.289877, 0.2, 70.7195, 20, grid), HMCDA(0.15, 0.65), 2000;stream=false, progress=true);"
   ]
  },
  {
   "cell_type": "code",
   "execution_count": null,
   "metadata": {},
   "outputs": [],
   "source": [
    "using StatsPlots\n",
    "plot(chain)"
   ]
  },
  {
   "cell_type": "code",
   "execution_count": null,
   "metadata": {},
   "outputs": [],
   "source": [
    "corner(chain)"
   ]
  },
  {
   "cell_type": "code",
   "execution_count": null,
   "metadata": {},
   "outputs": [],
   "source": [
    "mutable struct thing_alt\n",
    "    a :: Float64\n",
    "end\n",
    "mutable struct thing\n",
    "    a\n",
    "end"
   ]
  },
  {
   "cell_type": "code",
   "execution_count": null,
   "metadata": {},
   "outputs": [],
   "source": [
    "thing1 = thing_alt(2)\n",
    "thing2 = thing(2)"
   ]
  },
  {
   "cell_type": "code",
   "execution_count": null,
   "metadata": {},
   "outputs": [],
   "source": [
    "function add_1_to_thing(thing)\n",
    "    thing.a = thing.a+1\n",
    "end"
   ]
  },
  {
   "cell_type": "code",
   "execution_count": null,
   "metadata": {},
   "outputs": [],
   "source": [
    "using BenchmarkTools\n",
    "@benchmark add_1_to_thing(thing1)"
   ]
  },
  {
   "cell_type": "code",
   "execution_count": null,
   "metadata": {},
   "outputs": [],
   "source": [
    "@benchmark add_1_to_thing(thing2)"
   ]
  },
  {
   "cell_type": "code",
   "execution_count": null,
   "metadata": {},
   "outputs": [],
   "source": [
    "@code_warntype add_1_to_thing(thing2)"
   ]
  },
  {
   "cell_type": "code",
   "execution_count": null,
   "metadata": {},
   "outputs": [],
   "source": [
    "@code_warntype add_1_to_thing(thing1)"
   ]
  },
  {
   "cell_type": "code",
   "execution_count": null,
   "metadata": {},
   "outputs": [],
   "source": [
    "@benchmark interpolate_grid_quantity(grid,[0.13,1.21,1.05],:logTeff, 1.7)"
   ]
  },
  {
   "cell_type": "code",
   "execution_count": null,
   "metadata": {},
   "outputs": [],
   "source": [
    "@code_warntype  interpolate_grid_quantity(grid,[0.13,1.21,1.05],:logTeff, 1.7)"
   ]
  },
  {
   "cell_type": "code",
   "execution_count": null,
   "metadata": {},
   "outputs": [],
   "source": []
  }
 ],
 "metadata": {
  "kernelspec": {
   "display_name": "Julia 1.8.2",
   "language": "julia",
   "name": "julia-1.8"
  },
  "language_info": {
   "file_extension": ".jl",
   "mimetype": "application/julia",
   "name": "julia",
   "version": "1.8.2"
  }
 },
 "nbformat": 4,
 "nbformat_minor": 4
}

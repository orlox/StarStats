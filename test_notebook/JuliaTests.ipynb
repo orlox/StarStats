{
 "cells": [
  {
   "cell_type": "code",
   "execution_count": 1,
   "metadata": {},
   "outputs": [],
   "source": [
    "using StarStats"
   ]
  },
  {
   "cell_type": "markdown",
   "metadata": {},
   "source": []
  },
  {
   "cell_type": "code",
   "execution_count": 7,
   "metadata": {},
   "outputs": [
    {
     "name": "stdout",
     "output_type": "stream",
     "text": [
      "data = compute*distances*and_EEPs\n",
      "\n",
      "Function \n",
      "\n",
      "# Fields:\n",
      "\n",
      "  * \n",
      "\n"
     ]
    },
    {
     "data": {
      "text/latex": [
       "compute\\emph{distances}and\\_EEPs\n",
       "\n",
       "Function \n",
       "\n",
       "\\section{Fields:}\n",
       "\\begin{itemize}\n",
       "\\item \\end{itemize}\n"
      ],
      "text/markdown": [
       "compute*distances*and_EEPs\n",
       "\n",
       "Function \n",
       "\n",
       "# Fields:\n",
       "\n",
       "  * \n"
      ],
      "text/plain": [
       "  compute\u001b[4mdistances\u001b[24mand_EEPs\n",
       "\n",
       "  Function\n",
       "\n",
       "\u001b[1m  Fields:\u001b[22m\n",
       "\u001b[1m  ≡≡≡≡≡≡≡≡≡\u001b[22m\n",
       "\n",
       "    •  "
      ]
     },
     "execution_count": 7,
     "metadata": {},
     "output_type": "execute_result"
    }
   ],
   "source": [
    "data = @doc compute_distances_and_EEPs\n",
    "\n",
    "@show data\n",
    "\n"
   ]
  },
  {
   "cell_type": "code",
   "execution_count": null,
   "metadata": {},
   "outputs": [],
   "source": []
  },
  {
   "cell_type": "code",
   "execution_count": null,
   "metadata": {},
   "outputs": [],
   "source": [
    "using Printf\n",
    "using BenchmarkTools\n",
    "using Plots\n",
    "using LaTeXStrings\n",
    "#plot(legend=false, xflip=true)\n",
    "plot()\n",
    "function path_constructor(strings::Vector{String})\n",
    "    DATA_FOLDER = ENV[\"STARSTATS_TEST_DATA_FOLDER\"]\n",
    "    return DATA_FOLDER*\"/LMC/LMC_0.00_$(strings[1])_1.00.track.gz\"\n",
    "end\n",
    "masses = [@sprintf(\"%.3f\", x) for x in range(0.9,2.1,step=0.025)]\n",
    "grid = ModelDataGrid([masses],[:logM])\n",
    "load_grid(grid,path_constructor,gz_dataframe_loader_with_Teff_and_star_age_fix)\n",
    "compute_distances_and_EEPs(grid)\n",
    "\n",
    "for df in grid.dfs\n",
    "    plot!(df.logTeff, df.logL, \n",
    "    legend=false,\n",
    "    xflip=true, \n",
    "    xlabel=L\"log (T$_{eff}$/K)\",\n",
    "    ylabel=L\"log (L/L$_{\\odot}$)\")\n",
    "  \n",
    "end\n",
    "plot!()\n",
    "\n",
    "\n"
   ]
  },
  {
   "cell_type": "markdown",
   "metadata": {},
   "source": [
    "Test the EEps routines"
   ]
  },
  {
   "cell_type": "code",
   "execution_count": null,
   "metadata": {},
   "outputs": [],
   "source": [
    "plot()\n",
    "EEPs = grid.EEPs[14,:]\n",
    "for i in EEPs\n",
    "    scatter!([grid.dfs[14].logTeff[i]], [grid.dfs[14].logL[i]])\n",
    "end\n",
    "\n",
    "track = grid.dfs[14]\n",
    "xvals = LinRange(0,5,1000)\n",
    "log_Teff = get_secondary_EEP.(xvals,Ref(track),Ref(:logTeff))\n",
    "log_L = get_secondary_EEP.(xvals,Ref(track),Ref(:logL))\n",
    "plot!(log_Teff, log_L, \n",
    "seriestype=:scatter,\n",
    "legend=false,\n",
    "xflip=true, \n",
    "xlabel=L\"log (T$_{eff}$/K)\",\n",
    "ylabel=L\"log (L/L$_{\\odot}$)\")\n",
    "\n",
    "plot!(grid.dfs[14].logTeff, grid.dfs[14].logL, lc=:red)\n",
    "\n"
   ]
  },
  {
   "cell_type": "markdown",
   "metadata": {},
   "source": [
    "Load the entire database of grids "
   ]
  },
  {
   "cell_type": "code",
   "execution_count": 8,
   "metadata": {},
   "outputs": [],
   "source": [
    "using Printf\n",
    "using BenchmarkTools\n",
    "function path_constructor(strings::Vector{String})\n",
    "    DATA_FOLDER = ENV[\"STARSTATS_TEST_DATA_FOLDER\"]\n",
    "    return DATA_FOLDER*\"/LMC/LMC_$(strings[1])_$(strings[2])_$(strings[3]).track.gz\"\n",
    "end\n",
    "masses = [@sprintf(\"%.3f\", x) for x in range(0.9,2.1,step=0.025)]\n",
    "rotation = [@sprintf(\"%.2f\", x) for x in range(0.0,0.9,step=0.1)]\n",
    "overshoot = [@sprintf(\"%.2f\", x) for x in range(0.5,4.5,step=0.5)]\n",
    "grid = ModelDataGrid([rotation,masses,overshoot],\n",
    "    [:rotation,:logM,:overshoot])\n",
    "#@benchmark \n",
    "load_grid(grid,path_constructor,gz_dataframe_loader_with_Teff_and_star_age_fix); \n",
    "compute_distances_and_EEPs(grid)"
   ]
  },
  {
   "cell_type": "code",
   "execution_count": null,
   "metadata": {},
   "outputs": [],
   "source": [
    "observable_names = [:logTeff, :logL, :vrot]\n",
    "observable_values = [4.51974, 4.289877, 70.7195]\n",
    "observable_errors = [0.2, 0.2, 10]\n",
    "# potentially parallelize this\n",
    "grid_likelihood = ModelDataGridLikelihood(grid, observable_names, observable_values, observable_errors);\n",
    "CI = credible_interval(grid_likelihood, :logM,0.68,1_000_000)"
   ]
  },
  {
   "cell_type": "code",
   "execution_count": null,
   "metadata": {},
   "outputs": [],
   "source": [
    "using Plots\n",
    "ml= marginalized_likelihood(grid_likelihood,[:logM])\n",
    "plot(grid.input_values[2], ml)\n",
    "hline!([CI[2]])\n",
    "vline!(CI[1])"
   ]
  },
  {
   "cell_type": "code",
   "execution_count": null,
   "metadata": {},
   "outputs": [],
   "source": [
    "using Plots\n",
    "ml= marginalized_likelihood(grid_likelihood,[:logM, :rotation])\n",
    "contour(grid.input_values[2], grid.input_values[1], ml', fill=true)"
   ]
  },
  {
   "cell_type": "code",
   "execution_count": null,
   "metadata": {},
   "outputs": [],
   "source": [
    "#for next time \n",
    "# track interpolation\n",
    "# Add comments to package source code\n",
    "\n",
    "# Turn MESA history into EEP\n",
    "#   \n",
    "# Interpolate EEP for single stars\n",
    "# Incorporate interpolated data into likelihood computation\n",
    "# Model comparisons"
   ]
  },
  {
   "cell_type": "code",
   "execution_count": null,
   "metadata": {},
   "outputs": [],
   "source": [
    "using Plots\n",
    "plot(legend=false,\n",
    "xflip=true, \n",
    "xlabel=L\"log (T$_{eff}$/K)\",\n",
    "ylabel=L\"log (L/L$_{\\odot}$)\")\n",
    "\n",
    "xvals = LinRange(0,5, 1000)\n",
    "plot!(interpolate_grid_quantity.(Ref(grid),Ref([0.13,1.21,1.05]),:logTeff, xvals), interpolate_grid_quantity.(Ref(grid),Ref([0.13,1.21,1.05]),:logL, xvals))\n",
    "plot!(interpolate_grid_quantity.(Ref(grid),Ref([0.5,1.21,3]),:logTeff, xvals), interpolate_grid_quantity.(Ref(grid),Ref([0.5,1.21,3]),:logL, xvals))"
   ]
  },
  {
   "cell_type": "code",
   "execution_count": null,
   "metadata": {},
   "outputs": [],
   "source": [
    "using Turing, Distributions\n",
    "@model function star_model(logTeff_obs, logTeff_err, logL_obs, logL_err, vrot_obs, vrot_err, grid)\n",
    "    x ~ Uniform(0,3)\n",
    "    logM ~ Uniform(0.9, 1.5)\n",
    "    rotation ~ Uniform(0,0.9)\n",
    "    overshoot ~ Uniform(0.5,1.5)\n",
    "    logTeff = interpolate_grid_quantity(grid,[rotation, logM, overshoot],:logTeff,x)\n",
    "    logL = interpolate_grid_quantity(grid,[rotation, logM, overshoot],:logL,x)\n",
    "    vrot = interpolate_grid_quantity(grid,[rotation, logM, overshoot],:vrot,x)\n",
    "\n",
    "    logTeff_obs ~ Normal(logTeff, logTeff_err)\n",
    "    logL_obs ~ Normal(logL, logL_err)\n",
    "    vrot_obs ~ Normal(vrot, vrot_err)\n",
    "    return logTeff_obs, logL_obs, vrot_obs\n",
    "end"
   ]
  },
  {
   "cell_type": "code",
   "execution_count": null,
   "metadata": {},
   "outputs": [],
   "source": [
    "using Logging\n",
    "Logging.disable_logging(Logging.Warn)\n",
    "## Here needs more analysis for optimization \n",
    "chain = sample(star_model(4.51974, 0.2, 4.289877, 0.2, 70.7195, 20, grid), HMCDA(0.15, 0.65), 200;stream=false, progress=true)"
   ]
  },
  {
   "cell_type": "code",
   "execution_count": null,
   "metadata": {},
   "outputs": [],
   "source": [
    "using StatsPlots\n",
    "plot(chain)"
   ]
  },
  {
   "cell_type": "code",
   "execution_count": null,
   "metadata": {},
   "outputs": [],
   "source": [
    "corner(chain)"
   ]
  },
  {
   "cell_type": "markdown",
   "metadata": {},
   "source": [
    "testing improving running time"
   ]
  },
  {
   "cell_type": "code",
   "execution_count": null,
   "metadata": {},
   "outputs": [],
   "source": [
    "using BenchmarkTools\n",
    "mutable struct thing_alt\n",
    "    a :: Float64\n",
    "end\n",
    "mutable struct thing\n",
    "    a\n",
    "end\n",
    "thing1 = thing_alt(2)\n",
    "thing2 = thing(2)\n",
    "function add_1_to_thing(thing)\n",
    "    thing.a = thing.a+1\n",
    "end\n",
    "\n",
    "@benchmark add_1_to_thing(thing1)"
   ]
  },
  {
   "cell_type": "code",
   "execution_count": null,
   "metadata": {},
   "outputs": [],
   "source": [
    "@benchmark add_1_to_thing(thing2)"
   ]
  },
  {
   "cell_type": "code",
   "execution_count": null,
   "metadata": {},
   "outputs": [],
   "source": [
    "@code_warntype add_1_to_thing(thing2)"
   ]
  },
  {
   "cell_type": "code",
   "execution_count": null,
   "metadata": {},
   "outputs": [],
   "source": [
    "@code_warntype add_1_to_thing(thing1)"
   ]
  },
  {
   "cell_type": "code",
   "execution_count": null,
   "metadata": {},
   "outputs": [],
   "source": [
    "@benchmark interpolate_grid_quantity(grid,[0.13,1.21,1.05],:logTeff, 1.7)"
   ]
  },
  {
   "cell_type": "code",
   "execution_count": null,
   "metadata": {},
   "outputs": [],
   "source": []
  },
  {
   "cell_type": "code",
   "execution_count": 15,
   "metadata": {},
   "outputs": [
    {
     "name": "stdout",
     "output_type": "stream",
     "text": [
      "MethodInstance for interpolate_grid_quantity2(::ModelDataGrid, ::Vector{Float64}, ::Symbol, ::Float64)\n",
      "  from interpolate_grid_quantity2(grid, grid_parameters, interpolated_quantity, x) in Main at In[10]:1\n",
      "Arguments\n",
      "  #self#\u001b[36m::Core.Const(interpolate_grid_quantity2)\u001b[39m\n",
      "  grid\u001b[36m::ModelDataGrid\u001b[39m\n",
      "  grid_parameters\u001b[36m::Vector{Float64}\u001b[39m\n",
      "  interpolated_quantity\u001b[36m::Symbol\u001b[39m\n",
      "  x\u001b[36m::Float64\u001b[39m\n",
      "Locals\n",
      "  #13\u001b[36m::var\"#13#20\"\u001b[39m\n",
      "  @_7\u001b[33m\u001b[1m::Union{Nothing, Tuple{Int64, Int64}}\u001b[22m\u001b[39m\n",
      "  @_8\u001b[91m\u001b[1m::Any\u001b[22m\u001b[39m\n",
      "  #8\u001b[36m::var\"#8#15\"\u001b[39m\n",
      "  #7\u001b[36m::var\"#7#14\"\u001b[39m\n",
      "  @_11\u001b[33m\u001b[1m::Union{Nothing, Tuple{Int64, Int64}}\u001b[22m\u001b[39m\n",
      "  @_12\u001b[33m\u001b[1m::Union{Nothing, Tuple{Int64, Int64}}\u001b[22m\u001b[39m\n",
      "  df_index\u001b[36m::Vector{Int64}\u001b[39m\n",
      "  yvalues\u001b[91m\u001b[1m::Any\u001b[22m\u001b[39m\n",
      "  grid_values\u001b[36m::Matrix{Float64}\u001b[39m\n",
      "  lower_i\u001b[36m::Vector{Int64}\u001b[39m\n",
      "  @_17\u001b[33m\u001b[1m::Union{Nothing, Tuple{Int64, Int64}}\u001b[22m\u001b[39m\n",
      "  j\u001b[36m::Int64\u001b[39m\n",
      "  i@_19\u001b[36m::Int64\u001b[39m\n",
      "  i@_20\u001b[36m::Int64\u001b[39m\n",
      "  index@_21\u001b[91m\u001b[1m::Any\u001b[22m\u001b[39m\n",
      "  @_22\u001b[33m\u001b[1m::Union{Nothing, Tuple{Any, Union{Bool, Tuple}}}\u001b[22m\u001b[39m\n",
      "  #9\u001b[36m::var\"#9#16\"\u001b[39m\n",
      "  i@_24\u001b[36m::Int64\u001b[39m\n",
      "  #12\u001b[36m::var\"#12#19\"\u001b[39m\n",
      "  #11\u001b[36m::var\"#11#18\"\u001b[39m\n",
      "  #10\u001b[36m::var\"#10#17\"\u001b[39m\n",
      "  xtarget\u001b[36m::Float64\u001b[39m\n",
      "  xval2\u001b[36m::Float64\u001b[39m\n",
      "  xval1\u001b[36m::Float64\u001b[39m\n",
      "  yval2\u001b[91m\u001b[1m::Any\u001b[22m\u001b[39m\n",
      "  yval1\u001b[91m\u001b[1m::Any\u001b[22m\u001b[39m\n",
      "  index@_33\u001b[91m\u001b[1m::Any\u001b[22m\u001b[39m\n",
      "Body\u001b[91m\u001b[1m::Any\u001b[22m\u001b[39m\n",
      "\u001b[90m1 ──\u001b[39m        Core.NewvarNode(:(#13))\n",
      "\u001b[90m│   \u001b[39m        Core.NewvarNode(:(@_7))\n",
      "\u001b[90m│   \u001b[39m        Core.NewvarNode(:(@_8))\n",
      "\u001b[90m│   \u001b[39m        Core.NewvarNode(:(#8))\n",
      "\u001b[90m│   \u001b[39m        Core.NewvarNode(:(#7))\n",
      "\u001b[90m│   \u001b[39m        Core.NewvarNode(:(@_11))\n",
      "\u001b[90m│   \u001b[39m        Core.NewvarNode(:(df_index))\n",
      "\u001b[90m│   \u001b[39m        Core.NewvarNode(:(yvalues))\n",
      "\u001b[90m│   \u001b[39m %9   = Base.getproperty(grid, :input_names)\u001b[36m::Vector{Symbol}\u001b[39m\n",
      "\u001b[90m│   \u001b[39m %10  = Main.length(%9)\u001b[36m::Int64\u001b[39m\n",
      "\u001b[90m│   \u001b[39m        (lower_i = Main.zeros(Main.Int, %10))\n",
      "\u001b[90m│   \u001b[39m %12  = Base.getproperty(grid, :input_names)\u001b[36m::Vector{Symbol}\u001b[39m\n",
      "\u001b[90m│   \u001b[39m %13  = Main.length(%12)\u001b[36m::Int64\u001b[39m\n",
      "\u001b[90m│   \u001b[39m        (grid_values = Main.zeros(%13, 2))\n",
      "\u001b[90m│   \u001b[39m %15  = Base.getproperty(grid, :input_names)\u001b[36m::Vector{Symbol}\u001b[39m\n",
      "\u001b[90m│   \u001b[39m %16  = Main.length(%15)\u001b[36m::Int64\u001b[39m\n",
      "\u001b[90m│   \u001b[39m %17  = (1:%16)\u001b[36m::Core.PartialStruct(UnitRange{Int64}, Any[Core.Const(1), Int64])\u001b[39m\n",
      "\u001b[90m│   \u001b[39m        (@_12 = Base.iterate(%17))\n",
      "\u001b[90m│   \u001b[39m %19  = (@_12 === nothing)\u001b[36m::Bool\u001b[39m\n",
      "\u001b[90m│   \u001b[39m %20  = Base.not_int(%19)\u001b[36m::Bool\u001b[39m\n",
      "\u001b[90m└───\u001b[39m        goto #10 if not %20\n",
      "\u001b[90m2 ┄─\u001b[39m %22  = @_12\u001b[36m::Tuple{Int64, Int64}\u001b[39m\n",
      "\u001b[90m│   \u001b[39m        (j = Core.getfield(%22, 1))\n",
      "\u001b[90m│   \u001b[39m %24  = Core.getfield(%22, 2)\u001b[36m::Int64\u001b[39m\n",
      "\u001b[90m│   \u001b[39m %25  = Base.getproperty(grid, :input_values)\u001b[36m::Vector{Vector{Float64}}\u001b[39m\n",
      "\u001b[90m│   \u001b[39m %26  = Base.getindex(%25, j)\u001b[36m::Vector{Float64}\u001b[39m\n",
      "\u001b[90m│   \u001b[39m %27  = Main.length(%26)\u001b[36m::Int64\u001b[39m\n",
      "\u001b[90m│   \u001b[39m %28  = (%27 - 1)\u001b[36m::Int64\u001b[39m\n",
      "\u001b[90m│   \u001b[39m %29  = (1:%28)\u001b[36m::Core.PartialStruct(UnitRange{Int64}, Any[Core.Const(1), Int64])\u001b[39m\n",
      "\u001b[90m│   \u001b[39m        (@_17 = Base.iterate(%29))\n",
      "\u001b[90m│   \u001b[39m %31  = (@_17 === nothing)\u001b[36m::Bool\u001b[39m\n",
      "\u001b[90m│   \u001b[39m %32  = Base.not_int(%31)\u001b[36m::Bool\u001b[39m\n",
      "\u001b[90m└───\u001b[39m        goto #8 if not %32\n",
      "\u001b[90m3 ┄─\u001b[39m %34  = @_17\u001b[36m::Tuple{Int64, Int64}\u001b[39m\n",
      "\u001b[90m│   \u001b[39m        (i@_19 = Core.getfield(%34, 1))\n",
      "\u001b[90m│   \u001b[39m %36  = Core.getfield(%34, 2)\u001b[36m::Int64\u001b[39m\n",
      "\u001b[90m│   \u001b[39m %37  = Base.getproperty(grid, :input_values)\u001b[36m::Vector{Vector{Float64}}\u001b[39m\n",
      "\u001b[90m│   \u001b[39m %38  = Base.getindex(%37, j)\u001b[36m::Vector{Float64}\u001b[39m\n",
      "\u001b[90m│   \u001b[39m %39  = Base.getindex(%38, i@_19)\u001b[36m::Float64\u001b[39m\n",
      "\u001b[90m│   \u001b[39m %40  = Base.getindex(grid_parameters, j)\u001b[36m::Float64\u001b[39m\n",
      "\u001b[90m│   \u001b[39m %41  = (%39 <= %40)\u001b[36m::Bool\u001b[39m\n",
      "\u001b[90m└───\u001b[39m        goto #6 if not %41\n",
      "\u001b[90m4 ──\u001b[39m %43  = Base.getproperty(grid, :input_values)\u001b[36m::Vector{Vector{Float64}}\u001b[39m\n",
      "\u001b[90m│   \u001b[39m %44  = Base.getindex(%43, j)\u001b[36m::Vector{Float64}\u001b[39m\n",
      "\u001b[90m│   \u001b[39m %45  = (i@_19 + 1)\u001b[36m::Int64\u001b[39m\n",
      "\u001b[90m│   \u001b[39m %46  = Base.getindex(%44, %45)\u001b[36m::Float64\u001b[39m\n",
      "\u001b[90m│   \u001b[39m %47  = Base.getindex(grid_parameters, j)\u001b[36m::Float64\u001b[39m\n",
      "\u001b[90m│   \u001b[39m %48  = (%46 >= %47)\u001b[36m::Bool\u001b[39m\n",
      "\u001b[90m└───\u001b[39m        goto #6 if not %48\n",
      "\u001b[90m5 ──\u001b[39m %50  = Base.getproperty(grid, :input_values)\u001b[36m::Vector{Vector{Float64}}\u001b[39m\n",
      "\u001b[90m│   \u001b[39m %51  = Base.getindex(%50, j)\u001b[36m::Vector{Float64}\u001b[39m\n",
      "\u001b[90m│   \u001b[39m %52  = Base.getindex(%51, i@_19)\u001b[36m::Float64\u001b[39m\n",
      "\u001b[90m│   \u001b[39m        Base.setindex!(grid_values, %52, j, 1)\n",
      "\u001b[90m│   \u001b[39m %54  = Base.getproperty(grid, :input_values)\u001b[36m::Vector{Vector{Float64}}\u001b[39m\n",
      "\u001b[90m│   \u001b[39m %55  = Base.getindex(%54, j)\u001b[36m::Vector{Float64}\u001b[39m\n",
      "\u001b[90m│   \u001b[39m %56  = (i@_19 + 1)\u001b[36m::Int64\u001b[39m\n",
      "\u001b[90m│   \u001b[39m %57  = Base.getindex(%55, %56)\u001b[36m::Float64\u001b[39m\n",
      "\u001b[90m│   \u001b[39m        Base.setindex!(grid_values, %57, j, 2)\n",
      "\u001b[90m│   \u001b[39m        Base.setindex!(lower_i, i@_19, j)\n",
      "\u001b[90m└───\u001b[39m        goto #8\n",
      "\u001b[90m6 ┄─\u001b[39m        (@_17 = Base.iterate(%29, %36))\n",
      "\u001b[90m│   \u001b[39m %62  = (@_17 === nothing)\u001b[36m::Bool\u001b[39m\n",
      "\u001b[90m│   \u001b[39m %63  = Base.not_int(%62)\u001b[36m::Bool\u001b[39m\n",
      "\u001b[90m└───\u001b[39m        goto #8 if not %63\n",
      "\u001b[90m7 ──\u001b[39m        goto #3\n",
      "\u001b[90m8 ┄─\u001b[39m        (@_12 = Base.iterate(%17, %24))\n",
      "\u001b[90m│   \u001b[39m %67  = (@_12 === nothing)\u001b[36m::Bool\u001b[39m\n",
      "\u001b[90m│   \u001b[39m %68  = Base.not_int(%67)\u001b[36m::Bool\u001b[39m\n",
      "\u001b[90m└───\u001b[39m        goto #10 if not %68\n",
      "\u001b[90m9 ──\u001b[39m        goto #2\n",
      "\u001b[90m10 ┄\u001b[39m %71  = lower_i\u001b[36m::Vector{Int64}\u001b[39m\n",
      "\u001b[90m│   \u001b[39m        (@_11 = Base.iterate(%71))\n",
      "\u001b[90m│   \u001b[39m %73  = (@_11 === nothing)\u001b[36m::Bool\u001b[39m\n",
      "\u001b[90m│   \u001b[39m %74  = Base.not_int(%73)\u001b[36m::Bool\u001b[39m\n",
      "\u001b[90m└───\u001b[39m        goto #15 if not %74\n",
      "\u001b[90m11 ┄\u001b[39m %76  = @_11\u001b[36m::Tuple{Int64, Int64}\u001b[39m\n",
      "\u001b[90m│   \u001b[39m        (i@_20 = Core.getfield(%76, 1))\n",
      "\u001b[90m│   \u001b[39m %78  = Core.getfield(%76, 2)\u001b[36m::Int64\u001b[39m\n",
      "\u001b[90m│   \u001b[39m %79  = (i@_20 == 0)\u001b[36m::Bool\u001b[39m\n",
      "\u001b[90m└───\u001b[39m        goto #13 if not %79\n",
      "\u001b[90m12 ─\u001b[39m        return Main.NaN\n",
      "\u001b[90m13 ─\u001b[39m        (@_11 = Base.iterate(%71, %78))\n",
      "\u001b[90m│   \u001b[39m %83  = (@_11 === nothing)\u001b[36m::Bool\u001b[39m\n",
      "\u001b[90m│   \u001b[39m %84  = Base.not_int(%83)\u001b[36m::Bool\u001b[39m\n",
      "\u001b[90m└───\u001b[39m        goto #15 if not %84\n",
      "\u001b[90m14 ─\u001b[39m        goto #11\n",
      "\u001b[90m15 ┄\u001b[39m %87  = Main.typeof(x)\u001b[36m::Core.Const(Float64)\u001b[39m\n",
      "\u001b[90m│   \u001b[39m %88  = Core.tuple(%87)\u001b[36m::Core.Const((Float64,))\u001b[39m\n",
      "\u001b[90m│   \u001b[39m        (#7 = %new(Main.:(var\"#7#14\")))\n",
      "\u001b[90m│   \u001b[39m %90  = #7\u001b[36m::Core.Const(var\"#7#14\"())\u001b[39m\n",
      "\u001b[90m│   \u001b[39m %91  = Base.getproperty(grid, :input_names)\u001b[36m::Vector{Symbol}\u001b[39m\n",
      "\u001b[90m│   \u001b[39m %92  = Main.length(%91)\u001b[36m::Int64\u001b[39m\n",
      "\u001b[90m│   \u001b[39m %93  = (1:%92)\u001b[36m::Core.PartialStruct(UnitRange{Int64}, Any[Core.Const(1), Int64])\u001b[39m\n",
      "\u001b[90m│   \u001b[39m %94  = Base.Generator(%90, %93)\u001b[36m::Core.PartialStruct(Base.Generator{UnitRange{Int64}, var\"#7#14\"}, Any[Core.Const(var\"#7#14\"()), Core.PartialStruct(UnitRange{Int64}, Any[Core.Const(1), Int64])])\u001b[39m\n",
      "\u001b[90m│   \u001b[39m %95  = Base.collect(%94)\u001b[36m::Vector{Int64}\u001b[39m\n",
      "\u001b[90m│   \u001b[39m        (yvalues = Core._apply_iterate(Base.iterate, Main.zeros, %88, %95))\n",
      "\u001b[90m│   \u001b[39m %97  = Base.getproperty(grid, :input_names)\u001b[36m::Vector{Symbol}\u001b[39m\n",
      "\u001b[90m│   \u001b[39m %98  = Main.length(%97)\u001b[36m::Int64\u001b[39m\n",
      "\u001b[90m│   \u001b[39m        (df_index = Main.zeros(Main.Int, %98))\n",
      "\u001b[90m│   \u001b[39m %100 = Base.product\u001b[36m::Core.Const(Base.Iterators.product)\u001b[39m\n",
      "\u001b[90m│   \u001b[39m        (#8 = %new(Main.:(var\"#8#15\")))\n",
      "\u001b[90m│   \u001b[39m %102 = #8\u001b[36m::Core.Const(var\"#8#15\"())\u001b[39m\n",
      "\u001b[90m│   \u001b[39m %103 = Base.getproperty(grid, :input_names)\u001b[36m::Vector{Symbol}\u001b[39m\n",
      "\u001b[90m│   \u001b[39m %104 = Main.length(%103)\u001b[36m::Int64\u001b[39m\n",
      "\u001b[90m│   \u001b[39m %105 = (1:%104)\u001b[36m::Core.PartialStruct(UnitRange{Int64}, Any[Core.Const(1), Int64])\u001b[39m\n",
      "\u001b[90m│   \u001b[39m %106 = Base.Generator(%102, %105)\u001b[36m::Core.PartialStruct(Base.Generator{UnitRange{Int64}, var\"#8#15\"}, Any[Core.Const(var\"#8#15\"()), Core.PartialStruct(UnitRange{Int64}, Any[Core.Const(1), Int64])])\u001b[39m\n",
      "\u001b[90m│   \u001b[39m %107 = Base.collect(%106)\u001b[36m::Vector{UnitRange{Int64}}\u001b[39m\n",
      "\u001b[90m│   \u001b[39m %108 = Core._apply_iterate(Base.iterate, %100, %107)\u001b[91m\u001b[1m::Base.Iterators.ProductIterator\u001b[22m\u001b[39m\n",
      "\u001b[90m│   \u001b[39m %109 = Main.collect(%108)\u001b[91m\u001b[1m::Any\u001b[22m\u001b[39m\n",
      "\u001b[90m│   \u001b[39m        (@_8 = Base.iterate(%109))\n",
      "\u001b[90m│   \u001b[39m %111 = (@_8 === nothing)\u001b[36m::Bool\u001b[39m\n",
      "\u001b[90m│   \u001b[39m %112 = Base.not_int(%111)\u001b[36m::Bool\u001b[39m\n",
      "\u001b[90m└───\u001b[39m        goto #20 if not %112\n",
      "\u001b[90m16 ┄\u001b[39m %114 = @_8\u001b[91m\u001b[1m::Any\u001b[22m\u001b[39m\n",
      "\u001b[90m│   \u001b[39m        (index@_21 = Core.getfield(%114, 1))\n",
      "\u001b[90m│   \u001b[39m %116 = Core.getfield(%114, 2)\u001b[91m\u001b[1m::Any\u001b[22m\u001b[39m\n",
      "\u001b[90m│   \u001b[39m %117 = df_index\u001b[36m::Vector{Int64}\u001b[39m\n",
      "\u001b[90m│   \u001b[39m %118 = Base.broadcasted(Main.:+, lower_i, index@_21)\u001b[91m\u001b[1m::Any\u001b[22m\u001b[39m\n",
      "\u001b[90m│   \u001b[39m %119 = Base.broadcasted(Main.:-, %118, 1)\u001b[91m\u001b[1m::Any\u001b[22m\u001b[39m\n",
      "\u001b[90m│   \u001b[39m        Base.materialize!(%117, %119)\n",
      "\u001b[90m│   \u001b[39m %121 = Base.getproperty(grid, :dfs)\u001b[91m\u001b[1m::Array{DataFrames.DataFrame}\u001b[22m\u001b[39m\n",
      "\u001b[90m│   \u001b[39m %122 = Core.tuple(%121)\u001b[91m\u001b[1m::Tuple{Array{DataFrames.DataFrame}}\u001b[22m\u001b[39m\n",
      "\u001b[90m│   \u001b[39m %123 = Core._apply_iterate(Base.iterate, Main.isassigned, %122, df_index)\u001b[36m::Bool\u001b[39m\n",
      "\u001b[90m│   \u001b[39m %124 = !%123\u001b[36m::Bool\u001b[39m\n",
      "\u001b[90m└───\u001b[39m        goto #18 if not %124\n",
      "\u001b[90m17 ─\u001b[39m        return Main.NaN\n",
      "\u001b[90m18 ─\u001b[39m %127 = index@_21\u001b[91m\u001b[1m::Any\u001b[22m\u001b[39m\n",
      "\u001b[90m│   \u001b[39m %128 = df_index\u001b[36m::Vector{Int64}\u001b[39m\n",
      "\u001b[90m│   \u001b[39m %129 = Base.getproperty(grid, :dfs)\u001b[91m\u001b[1m::Array{DataFrames.DataFrame}\u001b[22m\u001b[39m\n",
      "\u001b[90m│   \u001b[39m %130 = Core.tuple(%129)\u001b[91m\u001b[1m::Tuple{Array{DataFrames.DataFrame}}\u001b[22m\u001b[39m\n",
      "\u001b[90m│   \u001b[39m %131 = Core._apply_iterate(Base.iterate, Base.getindex, %130, %128)\u001b[91m\u001b[1m::Any\u001b[22m\u001b[39m\n",
      "\u001b[90m│   \u001b[39m %132 = Main.get_secondary_EEP(x, %131, interpolated_quantity)\u001b[91m\u001b[1m::Any\u001b[22m\u001b[39m\n",
      "\u001b[90m│   \u001b[39m %133 = Core.tuple(yvalues, %132)\u001b[91m\u001b[1m::Tuple{Any, Any}\u001b[22m\u001b[39m\n",
      "\u001b[90m│   \u001b[39m        Core._apply_iterate(Base.iterate, Base.setindex!, %133, %127)\n",
      "\u001b[90m│   \u001b[39m        (@_8 = Base.iterate(%109, %116))\n",
      "\u001b[90m│   \u001b[39m %136 = (@_8 === nothing)\u001b[36m::Bool\u001b[39m\n",
      "\u001b[90m│   \u001b[39m %137 = Base.not_int(%136)\u001b[36m::Bool\u001b[39m\n",
      "\u001b[90m└───\u001b[39m        goto #20 if not %137\n",
      "\u001b[90m19 ─\u001b[39m        goto #16\n",
      "\u001b[90m20 ┄\u001b[39m %140 = Base.getproperty(grid, :input_names)\u001b[36m::Vector{Symbol}\u001b[39m\n",
      "\u001b[90m│   \u001b[39m %141 = Main.length(%140)\u001b[36m::Int64\u001b[39m\n",
      "\u001b[90m│   \u001b[39m %142 = (1:%141)\u001b[36m::Core.PartialStruct(UnitRange{Int64}, Any[Core.Const(1), Int64])\u001b[39m\n",
      "\u001b[90m│   \u001b[39m        (@_7 = Base.iterate(%142))\n",
      "\u001b[90m│   \u001b[39m %144 = (@_7 === nothing)\u001b[36m::Bool\u001b[39m\n",
      "\u001b[90m│   \u001b[39m %145 = Base.not_int(%144)\u001b[36m::Bool\u001b[39m\n",
      "\u001b[90m└───\u001b[39m        goto #26 if not %145\n",
      "\u001b[90m21 ┄\u001b[39m %147 = @_7\u001b[36m::Tuple{Int64, Int64}\u001b[39m\n",
      "\u001b[90m│   \u001b[39m        (i@_24 = Core.getfield(%147, 1))\n",
      "\u001b[90m│   \u001b[39m %149 = Core.getfield(%147, 2)\u001b[36m::Int64\u001b[39m\n",
      "\u001b[90m│   \u001b[39m %150 = Base.product\u001b[36m::Core.Const(Base.Iterators.product)\u001b[39m\n",
      "\u001b[90m│   \u001b[39m        (#9 = %new(Main.:(var\"#9#16\")))\n",
      "\u001b[90m│   \u001b[39m %152 = #9\u001b[36m::Core.Const(var\"#9#16\"())\u001b[39m\n",
      "\u001b[90m│   \u001b[39m %153 = Base.getproperty(grid, :input_names)\u001b[36m::Vector{Symbol}\u001b[39m\n",
      "\u001b[90m│   \u001b[39m %154 = Main.length(%153)\u001b[36m::Int64\u001b[39m\n",
      "\u001b[90m│   \u001b[39m %155 = (%154 - i@_24)\u001b[36m::Int64\u001b[39m\n",
      "\u001b[90m│   \u001b[39m %156 = (1:%155)\u001b[36m::Core.PartialStruct(UnitRange{Int64}, Any[Core.Const(1), Int64])\u001b[39m\n",
      "\u001b[90m│   \u001b[39m %157 = Base.Generator(%152, %156)\u001b[36m::Core.PartialStruct(Base.Generator{UnitRange{Int64}, var\"#9#16\"}, Any[Core.Const(var\"#9#16\"()), Core.PartialStruct(UnitRange{Int64}, Any[Core.Const(1), Int64])])\u001b[39m\n",
      "\u001b[90m│   \u001b[39m %158 = Base.collect(%157)\u001b[36m::Vector{UnitRange{Int64}}\u001b[39m\n",
      "\u001b[90m│   \u001b[39m %159 = Core._apply_iterate(Base.iterate, %150, %158)\u001b[91m\u001b[1m::Base.Iterators.ProductIterator\u001b[22m\u001b[39m\n",
      "\u001b[90m│   \u001b[39m        (@_22 = Base.iterate(%159))\n",
      "\u001b[90m│   \u001b[39m %161 = (@_22 === nothing)\u001b[36m::Bool\u001b[39m\n",
      "\u001b[90m│   \u001b[39m %162 = Base.not_int(%161)\u001b[36m::Bool\u001b[39m\n",
      "\u001b[90m└───\u001b[39m        goto #24 if not %162\n",
      "\u001b[90m22 ┄\u001b[39m %164 = @_22\u001b[91m\u001b[1m::Tuple{Any, Union{Bool, Tuple}}\u001b[22m\u001b[39m\n",
      "\u001b[90m│   \u001b[39m        (index@_33 = Core.getfield(%164, 1))\n",
      "\u001b[90m│   \u001b[39m %166 = Core.getfield(%164, 2)\u001b[91m\u001b[1m::Union{Bool, Tuple}\u001b[22m\u001b[39m\n",
      "\u001b[90m│   \u001b[39m        (#10 = %new(Main.:(var\"#10#17\")))\n",
      "\u001b[90m│   \u001b[39m %168 = #10\u001b[36m::Core.Const(var\"#10#17\"())\u001b[39m\n",
      "\u001b[90m│   \u001b[39m %169 = (i@_24 - 1)\u001b[36m::Int64\u001b[39m\n",
      "\u001b[90m│   \u001b[39m %170 = (1:%169)\u001b[36m::Core.PartialStruct(UnitRange{Int64}, Any[Core.Const(1), Int64])\u001b[39m\n",
      "\u001b[90m│   \u001b[39m %171 = Base.Generator(%168, %170)\u001b[36m::Core.PartialStruct(Base.Generator{UnitRange{Int64}, var\"#10#17\"}, Any[Core.Const(var\"#10#17\"()), Core.PartialStruct(UnitRange{Int64}, Any[Core.Const(1), Int64])])\u001b[39m\n",
      "\u001b[90m│   \u001b[39m %172 = Base.collect(%171)\u001b[36m::Vector{Int64}\u001b[39m\n",
      "\u001b[90m│   \u001b[39m %173 = index@_33\u001b[91m\u001b[1m::Any\u001b[22m\u001b[39m\n",
      "\u001b[90m│   \u001b[39m %174 = Core.tuple(yvalues)\u001b[91m\u001b[1m::Tuple{Any}\u001b[22m\u001b[39m\n",
      "\u001b[90m│   \u001b[39m %175 = Core.tuple(1)\u001b[36m::Core.Const((1,))\u001b[39m\n",
      "\u001b[90m│   \u001b[39m        (yval1 = Core._apply_iterate(Base.iterate, Base.getindex, %174, %172, %175, %173))\n",
      "\u001b[90m│   \u001b[39m        (#11 = %new(Main.:(var\"#11#18\")))\n",
      "\u001b[90m│   \u001b[39m %178 = #11\u001b[36m::Core.Const(var\"#11#18\"())\u001b[39m\n",
      "\u001b[90m│   \u001b[39m %179 = (i@_24 - 1)\u001b[36m::Int64\u001b[39m\n",
      "\u001b[90m│   \u001b[39m %180 = (1:%179)\u001b[36m::Core.PartialStruct(UnitRange{Int64}, Any[Core.Const(1), Int64])\u001b[39m\n",
      "\u001b[90m│   \u001b[39m %181 = Base.Generator(%178, %180)\u001b[36m::Core.PartialStruct(Base.Generator{UnitRange{Int64}, var\"#11#18\"}, Any[Core.Const(var\"#11#18\"()), Core.PartialStruct(UnitRange{Int64}, Any[Core.Const(1), Int64])])\u001b[39m\n",
      "\u001b[90m│   \u001b[39m %182 = Base.collect(%181)\u001b[36m::Vector{Int64}\u001b[39m\n",
      "\u001b[90m│   \u001b[39m %183 = index@_33\u001b[91m\u001b[1m::Any\u001b[22m\u001b[39m\n",
      "\u001b[90m│   \u001b[39m %184 = Core.tuple(yvalues)\u001b[91m\u001b[1m::Tuple{Any}\u001b[22m\u001b[39m\n",
      "\u001b[90m│   \u001b[39m %185 = Core.tuple(2)\u001b[36m::Core.Const((2,))\u001b[39m\n",
      "\u001b[90m│   \u001b[39m        (yval2 = Core._apply_iterate(Base.iterate, Base.getindex, %184, %182, %185, %183))\n",
      "\u001b[90m│   \u001b[39m        (xval1 = Base.getindex(grid_values, i@_24, 1))\n",
      "\u001b[90m│   \u001b[39m        (xval2 = Base.getindex(grid_values, i@_24, 2))\n",
      "\u001b[90m│   \u001b[39m        (xtarget = Base.getindex(grid_parameters, i@_24))\n",
      "\u001b[90m│   \u001b[39m        (#12 = %new(Main.:(var\"#12#19\")))\n",
      "\u001b[90m│   \u001b[39m %191 = #12\u001b[36m::Core.Const(var\"#12#19\"())\u001b[39m\n",
      "\u001b[90m│   \u001b[39m %192 = (i@_24 - 1)\u001b[36m::Int64\u001b[39m\n",
      "\u001b[90m│   \u001b[39m %193 = (1:%192)\u001b[36m::Core.PartialStruct(UnitRange{Int64}, Any[Core.Const(1), Int64])\u001b[39m\n",
      "\u001b[90m│   \u001b[39m %194 = Base.Generator(%191, %193)\u001b[36m::Core.PartialStruct(Base.Generator{UnitRange{Int64}, var\"#12#19\"}, Any[Core.Const(var\"#12#19\"()), Core.PartialStruct(UnitRange{Int64}, Any[Core.Const(1), Int64])])\u001b[39m\n",
      "\u001b[90m│   \u001b[39m %195 = Base.collect(%194)\u001b[36m::Vector{Int64}\u001b[39m\n",
      "\u001b[90m│   \u001b[39m %196 = index@_33\u001b[91m\u001b[1m::Any\u001b[22m\u001b[39m\n",
      "\u001b[90m│   \u001b[39m %197 = yval1\u001b[91m\u001b[1m::Any\u001b[22m\u001b[39m\n",
      "\u001b[90m│   \u001b[39m %198 = (yval2 - yval1)\u001b[91m\u001b[1m::Any\u001b[22m\u001b[39m\n",
      "\u001b[90m│   \u001b[39m %199 = (xtarget - xval1)\u001b[36m::Float64\u001b[39m\n",
      "\u001b[90m│   \u001b[39m %200 = (%198 * %199)\u001b[91m\u001b[1m::Any\u001b[22m\u001b[39m\n",
      "\u001b[90m│   \u001b[39m %201 = (xval2 - xval1)\u001b[36m::Float64\u001b[39m\n",
      "\u001b[90m│   \u001b[39m %202 = (%200 / %201)\u001b[91m\u001b[1m::Any\u001b[22m\u001b[39m\n",
      "\u001b[90m│   \u001b[39m %203 = (%197 + %202)\u001b[91m\u001b[1m::Any\u001b[22m\u001b[39m\n",
      "\u001b[90m│   \u001b[39m %204 = Core.tuple(yvalues, %203)\u001b[91m\u001b[1m::Tuple{Any, Any}\u001b[22m\u001b[39m\n",
      "\u001b[90m│   \u001b[39m %205 = Core.tuple(1)\u001b[36m::Core.Const((1,))\u001b[39m\n",
      "\u001b[90m│   \u001b[39m        Core._apply_iterate(Base.iterate, Base.setindex!, %204, %195, %205, %196)\n",
      "\u001b[90m│   \u001b[39m        (@_22 = Base.iterate(%159, %166))\n",
      "\u001b[90m│   \u001b[39m %208 = (@_22::Union{Nothing, Tuple{Any, Tuple{Any, Vararg{Any}}}} === nothing)\u001b[36m::Bool\u001b[39m\n",
      "\u001b[90m│   \u001b[39m %209 = Base.not_int(%208)\u001b[36m::Bool\u001b[39m\n",
      "\u001b[90m└───\u001b[39m        goto #24 if not %209\n",
      "\u001b[90m23 ─\u001b[39m        goto #22\n",
      "\u001b[90m24 ┄\u001b[39m        (@_7 = Base.iterate(%142, %149))\n",
      "\u001b[90m│   \u001b[39m %213 = (@_7 === nothing)\u001b[36m::Bool\u001b[39m\n",
      "\u001b[90m│   \u001b[39m %214 = Base.not_int(%213)\u001b[36m::Bool\u001b[39m\n",
      "\u001b[90m└───\u001b[39m        goto #26 if not %214\n",
      "\u001b[90m25 ─\u001b[39m        goto #21\n",
      "\u001b[90m26 ┄\u001b[39m        (#13 = %new(Main.:(var\"#13#20\")))\n",
      "\u001b[90m│   \u001b[39m %218 = #13\u001b[36m::Core.Const(var\"#13#20\"())\u001b[39m\n",
      "\u001b[90m│   \u001b[39m %219 = Base.getproperty(grid, :input_names)\u001b[36m::Vector{Symbol}\u001b[39m\n",
      "\u001b[90m│   \u001b[39m %220 = Main.length(%219)\u001b[36m::Int64\u001b[39m\n",
      "\u001b[90m│   \u001b[39m %221 = (1:%220)\u001b[36m::Core.PartialStruct(UnitRange{Int64}, Any[Core.Const(1), Int64])\u001b[39m\n",
      "\u001b[90m│   \u001b[39m %222 = Base.Generator(%218, %221)\u001b[36m::Core.PartialStruct(Base.Generator{UnitRange{Int64}, var\"#13#20\"}, Any[Core.Const(var\"#13#20\"()), Core.PartialStruct(UnitRange{Int64}, Any[Core.Const(1), Int64])])\u001b[39m\n",
      "\u001b[90m│   \u001b[39m %223 = Base.collect(%222)\u001b[36m::Vector{Int64}\u001b[39m\n",
      "\u001b[90m│   \u001b[39m %224 = Core.tuple(yvalues)\u001b[91m\u001b[1m::Tuple{Any}\u001b[22m\u001b[39m\n",
      "\u001b[90m│   \u001b[39m %225 = Core._apply_iterate(Base.iterate, Base.getindex, %224, %223)\u001b[91m\u001b[1m::Any\u001b[22m\u001b[39m\n",
      "\u001b[90m└───\u001b[39m        return %225\n",
      "\n"
     ]
    }
   ],
   "source": [
    "@code_warntype  interpolate_grid_quantity2(grid,[0.13,1.21,1.05],:logTeff, 1.7)"
   ]
  },
  {
   "cell_type": "code",
   "execution_count": 18,
   "metadata": {},
   "outputs": [
    {
     "data": {
      "text/plain": [
       "interpolate_grid_quantity2 (generic function with 1 method)"
      ]
     },
     "execution_count": 18,
     "metadata": {},
     "output_type": "execute_result"
    }
   ],
   "source": [
    "function interpolate_grid_quantity2(grid, grid_parameters, interpolated_quantity, x)\n",
    "    lower_i = zeros(Int, length(grid.input_names))\n",
    "    grid_values = zeros(length(grid.input_names),2)\n",
    "    # get values of parameters at edges\n",
    "    for j in 1:length(grid.input_names)\n",
    "        for i in 1:(length(grid.input_values[j])-1)\n",
    "            if grid.input_values[j][i] <= grid_parameters[j] && grid.input_values[j][i+1] >= grid_parameters[j]\n",
    "                grid_values[j,1] = grid.input_values[j][i]\n",
    "                grid_values[j,2] = grid.input_values[j][i+1]\n",
    "                lower_i[j] = i\n",
    "                break\n",
    "            end\n",
    "        end\n",
    "    end\n",
    "    for i in lower_i\n",
    "        if i == 0\n",
    "            return NaN\n",
    "        end\n",
    "    end\n",
    "\n",
    "    # get value of quantity to interpolate at vertices at a given x\n",
    "    yvalues = zeros(typeof(x),[2 for i in 1:length(grid.input_names)]...)\n",
    "    df_index = zeros(Int, length(grid.input_names))\n",
    "    for index in collect(Base.product([1:2 for i in 1:length(grid.input_names)]...))\n",
    "        df_index .= lower_i.+index.-1\n",
    "        if !isassigned(grid.dfs,df_index...)\n",
    "            return NaN\n",
    "        end\n",
    "        yvalues[index...] = get_secondary_EEP(x,grid.dfs[df_index...], interpolated_quantity)\n",
    "    end\n",
    "\n",
    "    for i in 1:length(grid.input_names)\n",
    "        for index in Base.product([1:2 for i in 1:(length(grid.input_names)-i)]...)\n",
    "            yval1 = yvalues[[1 for j in 1:(i-1)]...,1,index...]\n",
    "            yval2 = yvalues[[1 for j in 1:(i-1)]...,2,index...]\n",
    "            xval1 = grid_values[i,1]\n",
    "            xval2 = grid_values[i,2]\n",
    "            xtarget = grid_parameters[i]\n",
    "            yvalues[[1 for j in 1:(i-1)]...,1,index...] = yval1 +(yval2-yval1)*(xtarget-xval1)/(xval2-xval1)\n",
    "        end\n",
    "    end\n",
    "\n",
    "    return yvalues[[1 for i in 1:length(grid.input_names)]...]\n",
    "\n",
    "end"
   ]
  },
  {
   "cell_type": "code",
   "execution_count": 19,
   "metadata": {},
   "outputs": [
    {
     "ename": "LoadError",
     "evalue": "MethodError: \u001b[0mCannot `convert` an object of type \n\u001b[0m  Tuple{Int64{},\u001b[92mInt64\u001b[39m,\u001b[92mInt64\u001b[39m}\u001b[0m to an object of type \n\u001b[0m  Tuple{Int64{}}\n\u001b[0mClosest candidates are:\n\u001b[0m  convert(::Type{T}, ::Tuple{Vararg{Any, N}}) where {N, T<:Tuple} at essentials.jl:332\n\u001b[0m  convert(::Type{T}, \u001b[91m::T\u001b[39m) where T<:Tuple at essentials.jl:331\n\u001b[0m  convert(::Type{T}, \u001b[91m::CartesianIndex\u001b[39m) where T<:Tuple at multidimensional.jl:131\n\u001b[0m  ...",
     "output_type": "error",
     "traceback": [
      "MethodError: \u001b[0mCannot `convert` an object of type \n\u001b[0m  Tuple{Int64{},\u001b[92mInt64\u001b[39m,\u001b[92mInt64\u001b[39m}\u001b[0m to an object of type \n\u001b[0m  Tuple{Int64{}}\n\u001b[0mClosest candidates are:\n\u001b[0m  convert(::Type{T}, ::Tuple{Vararg{Any, N}}) where {N, T<:Tuple} at essentials.jl:332\n\u001b[0m  convert(::Type{T}, \u001b[91m::T\u001b[39m) where T<:Tuple at essentials.jl:331\n\u001b[0m  convert(::Type{T}, \u001b[91m::CartesianIndex\u001b[39m) where T<:Tuple at multidimensional.jl:131\n\u001b[0m  ...",
      "",
      "Stacktrace:",
      "  [1] _tuple_error(T::Type, x::Tuple{Int64, Int64, Int64})",
      "    @ Base ./essentials.jl:329",
      "  [2] convert(#unused#::Type{Tuple{Int64}}, x::Tuple{Int64, Int64, Int64})",
      "    @ Base ./essentials.jl:336",
      "  [3] interpolate_grid_quantity2(grid::ModelDataGrid, grid_parameters::Vector{Float64}, interpolated_quantity::Symbol, x::Float64)",
      "    @ Main ./In[18]:24",
      "  [4] var\"##core#322\"()",
      "    @ Main ~/.julia/packages/BenchmarkTools/0owsb/src/execution.jl:489",
      "  [5] var\"##sample#323\"(::Tuple{}, __params::BenchmarkTools.Parameters)",
      "    @ Main ~/.julia/packages/BenchmarkTools/0owsb/src/execution.jl:495",
      "  [6] _run(b::BenchmarkTools.Benchmark, p::BenchmarkTools.Parameters; verbose::Bool, pad::String, kwargs::Base.Pairs{Symbol, Integer, NTuple{4, Symbol}, NamedTuple{(:samples, :evals, :gctrial, :gcsample), Tuple{Int64, Int64, Bool, Bool}}})",
      "    @ BenchmarkTools ~/.julia/packages/BenchmarkTools/0owsb/src/execution.jl:99",
      "  [7] #invokelatest#2",
      "    @ ./essentials.jl:731 [inlined]",
      "  [8] #run_result#45",
      "    @ ~/.julia/packages/BenchmarkTools/0owsb/src/execution.jl:34 [inlined]",
      "  [9] run(b::BenchmarkTools.Benchmark, p::BenchmarkTools.Parameters; progressid::Nothing, nleaves::Float64, ndone::Float64, kwargs::Base.Pairs{Symbol, Integer, NTuple{5, Symbol}, NamedTuple{(:verbose, :samples, :evals, :gctrial, :gcsample), Tuple{Bool, Int64, Int64, Bool, Bool}}})",
      "    @ BenchmarkTools ~/.julia/packages/BenchmarkTools/0owsb/src/execution.jl:117",
      " [10] #warmup#54",
      "    @ ~/.julia/packages/BenchmarkTools/0owsb/src/execution.jl:169 [inlined]",
      " [11] warmup(item::BenchmarkTools.Benchmark)",
      "    @ BenchmarkTools ~/.julia/packages/BenchmarkTools/0owsb/src/execution.jl:168",
      " [12] top-level scope",
      "    @ ~/.julia/packages/BenchmarkTools/0owsb/src/execution.jl:393",
      " [13] eval",
      "    @ ./boot.jl:368 [inlined]",
      " [14] include_string(mapexpr::typeof(REPL.softscope), mod::Module, code::String, filename::String)",
      "    @ Base ./loading.jl:1428"
     ]
    }
   ],
   "source": [
    "@benchmark interpolate_grid_quantity2(grid,[0.13,1.21,1.05],:logTeff, 1.7)"
   ]
  },
  {
   "cell_type": "code",
   "execution_count": 14,
   "metadata": {},
   "outputs": [
    {
     "data": {
      "text/plain": [
       "Gtk.GtkWindowLeaf(name=\"\", parent, width-request=-1, height-request=-1, visible=TRUE, sensitive=TRUE, app-paintable=FALSE, can-focus=FALSE, has-focus=FALSE, is-focus=FALSE, focus-on-click=TRUE, can-default=FALSE, has-default=FALSE, receives-default=FALSE, composite-child=FALSE, style, events=0, no-show-all=FALSE, has-tooltip=FALSE, tooltip-markup=NULL, tooltip-text=NULL, window, opacity=1,000000, double-buffered, halign=GTK_ALIGN_FILL, valign=GTK_ALIGN_FILL, margin-left, margin-right, margin-start=0, margin-end=0, margin-top=0, margin-bottom=0, margin=0, hexpand=FALSE, vexpand=FALSE, hexpand-set=FALSE, vexpand-set=FALSE, expand=FALSE, scale-factor=1, border-width=0, resize-mode, child, type=GTK_WINDOW_TOPLEVEL, title=\"Profile\", role=NULL, resizable=TRUE, modal=FALSE, window-position=GTK_WIN_POS_NONE, default-width=800, default-height=600, destroy-with-parent=FALSE, hide-titlebar-when-maximized=FALSE, icon, icon-name=NULL, screen, type-hint=GDK_WINDOW_TYPE_HINT_NORMAL, skip-taskbar-hint=FALSE, skip-pager-hint=FALSE, urgency-hint=FALSE, accept-focus=TRUE, focus-on-map=TRUE, decorated=TRUE, deletable=TRUE, gravity=GDK_GRAVITY_NORTH_WEST, transient-for, attached-to, has-resize-grip, resize-grip-visible, application, is-active=FALSE, has-toplevel-focus=FALSE, startup-id, mnemonics-visible=FALSE, focus-visible=FALSE, is-maximized=FALSE)"
      ]
     },
     "execution_count": 14,
     "metadata": {},
     "output_type": "execute_result"
    }
   ],
   "source": [
    "using ProfileView \n",
    "ProfileView.@profview for i in 1:1000 \n",
    "                        interpolate_grid_quantity2(grid,[0.13,1.21,1.05],:logTeff, 1.7)\n",
    "                      end "
   ]
  },
  {
   "cell_type": "code",
   "execution_count": null,
   "metadata": {},
   "outputs": [],
   "source": []
  }
 ],
 "metadata": {
  "kernelspec": {
   "display_name": "Julia 1.8.2",
   "language": "julia",
   "name": "julia-1.8"
  },
  "language_info": {
   "file_extension": ".jl",
   "mimetype": "application/julia",
   "name": "julia",
   "version": "1.8.2"
  }
 },
 "nbformat": 4,
 "nbformat_minor": 4
}

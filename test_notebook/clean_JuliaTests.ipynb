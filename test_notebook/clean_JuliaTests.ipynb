{
 "cells": [
  {
   "cell_type": "code",
   "execution_count": 1,
   "metadata": {},
   "outputs": [],
   "source": [
    "using StarStats"
   ]
  },
  {
   "cell_type": "markdown",
   "metadata": {},
   "source": [
    "Load the entire database of grids "
   ]
  },
  {
   "cell_type": "code",
   "execution_count": 2,
   "metadata": {},
   "outputs": [],
   "source": [
    "using Printf\n",
    "using BenchmarkTools\n",
    "function path_constructor(strings::Vector{String})\n",
    "    DATA_FOLDER = ENV[\"STARSTATS_TEST_DATA_FOLDER\"]\n",
    "    return DATA_FOLDER*\"/LMC/LMC_$(strings[1])_$(strings[2])_$(strings[3]).track.gz\"\n",
    "end\n",
    "masses = [@sprintf(\"%.3f\", x) for x in range(0.9,2.1,step=0.025)]\n",
    "rotation = [@sprintf(\"%.2f\", x) for x in range(0.0,0.9,step=0.1)]\n",
    "overshoot = [@sprintf(\"%.2f\", x) for x in range(0.5,4.5,step=0.5)]\n",
    "#change name grid to e.g. star_grid\n",
    "star_grid = ModelDataGrid([rotation,masses,overshoot],\n",
    "    [:rotation,:logM,:overshoot])\n",
    "#@benchmark \n",
    "load_grid(star_grid,path_constructor,gz_dataframe_loader_with_Teff_and_star_age_fix); \n",
    "compute_distances_and_EEPs(star_grid)"
   ]
  },
  {
   "cell_type": "code",
   "execution_count": 3,
   "metadata": {},
   "outputs": [
    {
     "data": {
      "text/plain": [
       "star_model (generic function with 2 methods)"
      ]
     },
     "metadata": {},
     "output_type": "display_data"
    }
   ],
   "source": [
    "using Turing, Distributions\n",
    "\n",
    "@model function star_model(logTeff_obs, logTeff_err, logL_obs, logL_err, vrot_obs, vrot_err, star_grid)\n",
    "  x ~ Uniform(0,3)\n",
    "  logM ~ Uniform(0.9, 1.5)\n",
    "  rotation ~ Uniform(0,0.9)\n",
    "  overshoot ~ Uniform(0.5,1.5)\n",
    "  logTeff = interpolate_grid_quantity(star_grid,[rotation, logM, overshoot],:logTeff,x)\n",
    "  logL = interpolate_grid_quantity(star_grid,[rotation, logM, overshoot],:logL,x)\n",
    "  vrot = interpolate_grid_quantity(star_grid,[rotation, logM, overshoot],:vrot,x)\n",
    "  \n",
    "\n",
    "  logTeff_obs ~ Normal(logTeff, logTeff_err)\n",
    "  logL_obs ~ Normal(logL, logL_err)\n",
    "  vrot_obs ~ Normal(vrot, vrot_err)\n",
    "  return logTeff_obs, logL_obs, vrot_obs\n",
    "end"
   ]
  },
  {
   "cell_type": "code",
   "execution_count": 4,
   "metadata": {},
   "outputs": [
    {
     "data": {
      "text/plain": [
       "Chains MCMC chain (20000×16×4 Array{Float64, 3}):\n",
       "\n",
       "Iterations        = 501:1:20500\n",
       "Number of chains  = 4\n",
       "Samples per chain = 20000\n",
       "Wall duration     = 92.68 seconds\n",
       "Compute duration  = 86.12 seconds\n",
       "parameters        = x, logM, rotation, overshoot\n",
       "internals         = lp, n_steps, is_accept, acceptance_rate, log_density, hamiltonian_energy, hamiltonian_energy_error, max_hamiltonian_energy_error, tree_depth, numerical_error, step_size, nom_step_size\n",
       "\n",
       "Summary Statistics\n",
       " \u001b[1m parameters \u001b[0m \u001b[1m    mean \u001b[0m \u001b[1m     std \u001b[0m \u001b[1m naive_se \u001b[0m \u001b[1m    mcse \u001b[0m \u001b[1m        ess \u001b[0m \u001b[1m    rhat \u001b[0m \u001b[1m\u001b[0m ⋯\n",
       " \u001b[90m     Symbol \u001b[0m \u001b[90m Float64 \u001b[0m \u001b[90m Float64 \u001b[0m \u001b[90m  Float64 \u001b[0m \u001b[90m Float64 \u001b[0m \u001b[90m    Float64 \u001b[0m \u001b[90m Float64 \u001b[0m \u001b[90m\u001b[0m ⋯\n",
       "\n",
       "           x    1.0398    0.6309     0.0022    0.0047   15907.7094    1.0003   ⋯\n",
       "        logM    1.0860    0.0841     0.0003    0.0006   21580.6023    1.0003   ⋯\n",
       "    rotation    0.1214    0.0468     0.0002    0.0005    7666.9398    1.0008   ⋯\n",
       "   overshoot    0.9940    0.2894     0.0010    0.0016   31079.2747    1.0001   ⋯\n",
       "\u001b[36m                                                                1 column omitted\u001b[0m\n",
       "\n",
       "Quantiles\n",
       " \u001b[1m parameters \u001b[0m \u001b[1m    2.5% \u001b[0m \u001b[1m   25.0% \u001b[0m \u001b[1m   50.0% \u001b[0m \u001b[1m   75.0% \u001b[0m \u001b[1m   97.5% \u001b[0m\n",
       " \u001b[90m     Symbol \u001b[0m \u001b[90m Float64 \u001b[0m \u001b[90m Float64 \u001b[0m \u001b[90m Float64 \u001b[0m \u001b[90m Float64 \u001b[0m \u001b[90m Float64 \u001b[0m\n",
       "\n",
       "           x    0.0503    0.4917    1.0095    1.5711    2.1367\n",
       "        logM    0.9350    1.0246    1.0820    1.1430    1.2595\n",
       "    rotation    0.0510    0.0925    0.1162    0.1425    0.2246\n",
       "   overshoot    0.5234    0.7424    0.9908    1.2447    1.4740\n"
      ]
     },
     "metadata": {},
     "output_type": "display_data"
    }
   ],
   "source": [
    "using Logging\n",
    "Logging.disable_logging(Logging.Warn)\n",
    "## Here needs more analysis for optimization\n",
    "num_chains=4\n",
    "\n",
    "observed_star_model = star_model(4.51974, 0.2, 4.289877, 0.2, 70.7195, 20, star_grid)\n",
    "star_chains = mapreduce(c -> sample(observed_star_model, NUTS(500,0.9), 20000;stream=false, progress=true), chainscat, 1:num_chains)"
   ]
  },
  {
   "cell_type": "code",
   "execution_count": 6,
   "metadata": {},
   "outputs": [
    {
     "data": {
      "text/plain": [
       "chain_credible_interval (generic function with 1 method)"
      ]
     },
     "metadata": {},
     "output_type": "display_data"
    }
   ],
   "source": [
    "using QuadGK\n",
    "function chain_credible_interval(values, fraction,num_points,weights)\n",
    "    maxval= maximum(logM)\n",
    "    minval = minimum(logM)\n",
    "    my_kde = kde(logM, weights=weights)\n",
    "    kde_function = x-> pdf(my_kde, x)\n",
    "    \n",
    "    integral = quadgk(kde_function,minval,maxval, rtol=1e-8)[1]\n",
    "    \n",
    "    xvalues = collect(LinRange(minval,maxval,num_points))\n",
    "    yvalues = kde_function(xvalues)\n",
    "    max_valy = findmax(yvalues)\n",
    "    maxx = xvalues[max_valy[2]]\n",
    "    maxy = max_valy[1]\n",
    "    \n",
    "    function kde_function2(x, kde_function, bound)\n",
    "        value = kde_function(x)\n",
    "        if value>bound\n",
    "            return value\n",
    "        else\n",
    "            return 0\n",
    "        end\n",
    "    end\n",
    "    minbound = 0\n",
    "    maxbound = maxy\n",
    "    newbound = 0\n",
    "    for i in 1:15\n",
    "        newbound = 0.5*(minbound+maxbound)\n",
    "        integral2 = quadgk(x -> kde_function2(x,kde_function,newbound), minval, maxval, rtol=1e-8)[1]\n",
    "        newfraction = integral2/integral\n",
    "        if newfraction>fraction\n",
    "            minbound = newbound\n",
    "        else\n",
    "            maxbound = newbound\n",
    "        end\n",
    "    end\n",
    "    filtered_xvalues = xvalues[yvalues.>newbound]\n",
    "    return ([maximum(filtered_xvalues), maxx, minimum(filtered_xvalues)], newbound)\n",
    "end"
   ]
  },
  {
   "cell_type": "code",
   "execution_count": 7,
   "metadata": {},
   "outputs": [
    {
     "ename": "UndefVarError",
     "evalue": "UndefVarError: logM not defined",
     "output_type": "error",
     "traceback": [
      "UndefVarError: logM not defined\n",
      "\n",
      "Stacktrace:\n",
      " [1] top-level scope\n",
      "   @ ~/work/code/StarStats.jl/test_notebook/clean_JuliaTests.ipynb:2"
     ]
    }
   ],
   "source": [
    "num_points = 10000\n",
    "values = logM\n",
    "fraction = 0.9\n",
    "\n",
    "\n",
    "CI = chain_credible_interval(values, fraction, num_points,dtdx)\n",
    "#@show dtdx"
   ]
  },
  {
   "cell_type": "code",
   "execution_count": 8,
   "metadata": {},
   "outputs": [
    {
     "data": {
      "text/plain": [
       "([1.2283107283107284, 1.125000225000225, 0.9642552642552642], 4192.989242514728)"
      ]
     },
     "metadata": {},
     "output_type": "display_data"
    }
   ],
   "source": [
    "observable_names = [:logTeff, :logL, :vrot]\n",
    "observable_values = [4.51974, 4.289877, 70.7195]\n",
    "observable_errors = [0.2, 0.2, 20]\n",
    "# potentially parallelize this\n",
    "grid_likelihood = ModelDataGridLikelihood(grid, observable_names, observable_values, observable_errors);\n",
    "CI2 = credible_interval(grid_likelihood, :logM,0.9,1_000_000)"
   ]
  },
  {
   "cell_type": "code",
   "execution_count": 9,
   "metadata": {},
   "outputs": [
    {
     "ename": "UndefVarError",
     "evalue": "UndefVarError: plot not defined",
     "output_type": "error",
     "traceback": [
      "UndefVarError: plot not defined\n",
      "\n",
      "Stacktrace:\n",
      " [1] top-level scope\n",
      "   @ ~/work/code/StarStats.jl/test_notebook/clean_JuliaTests.ipynb:2"
     ]
    }
   ],
   "source": [
    "#using Plots\n",
    "plot()\n",
    "ml= marginalized_likelihood(grid_likelihood,[:logM])\n",
    "plot!(grid.input_values[2], ml./maximum(ml))\n",
    "hline!([CI2[2]/maximum(ml)])\n",
    "vline!(CI2[1])\n",
    "\n",
    "my_kde = kde(logM, weights=dtdx)\n",
    "plot!(x->pdf(my_kde,x)/pdf(my_kde,CI[1][2]), xrange=[0.8, 2.1])\n",
    "\n",
    "hline!([CI[2]/pdf(my_kde,CI[1][2])])\n",
    "vline!(CI[1])"
   ]
  },
  {
   "attachments": {},
   "cell_type": "markdown",
   "metadata": {},
   "source": [
    "To do :\n",
    "\n",
    "1. MCMC code into its own  file within package\n",
    "    - make sampling code work with arbitrary observables\n",
    "    - make credible interval code flexible \n",
    "    - optimize the credible interval code \n",
    "    - create  pretty corner plots \n",
    "    - \n",
    "2. grid computed \n",
    "3. create simple interpolation interface \n",
    "4. change longM with values in credible interval bla\n",
    "5. make ticks consistent in corner plot\n",
    "6. use interpolation to get bounds on 1D marginalized distribution\n",
    "7. get proper parsing for report of CIs on top od 1D marginalized distribution\n",
    "8. use eachindex to iterate instead of for i in 1:length..."
   ]
  },
  {
   "cell_type": "code",
   "execution_count": 12,
   "metadata": {},
   "outputs": [
    {
     "data": {
      "text/plain": [
       "get_star_corner_plot (generic function with 1 method)"
      ]
     },
     "metadata": {},
     "output_type": "display_data"
    }
   ],
   "source": [
    "using LaTeXStrings\n",
    "using CairoMakie\n",
    "\n",
    "function concatenate_chains(star_chains)\n",
    "   concatenated_chains = Dict()\n",
    "   for name in Base.names(star_chains)\n",
    "       concatenated_chains[name] = star_chains[:,name,:][:]\n",
    "   end\n",
    "   return concatenated_chains\n",
    "end\n",
    "\n",
    "function compute_chain_weights(cchains)\n",
    "    dtdx=zeros(length(cchains[:x]))\n",
    "    for i in 1:length(dtdx)\n",
    "        dtdx[i]= interpolate_grid_quantity(grid,[cchains[:rotation][i], cchains[:logM][i], cchains[:overshoot][i]],:dtdx,cchains[:x][i])\n",
    "    end\n",
    "    return dtdx .* cchains[:logM].^-1.35\n",
    "end\n",
    "\n",
    "function get_star_corner_plot(star_chains)\n",
    "    names = [:logM, :rotation, :overshoot]\n",
    "    cchains = concatenate_chains(star_chains)\n",
    "    chain_weights = compute_chain_weights(cchains)\n",
    "    fractions =[0.68,0.95, 0.997]\n",
    "    fraction_1D = 0.68\n",
    "    figure= Figure()\n",
    "    label_names = [L\"\\log(M/M_{\\odot})\", L\"\\omega/\\omega_{crit}\", L\"\\alpha_\\mathrm{ov}\" ]\n",
    "\n",
    "    create_corner_plot(cchains,names,label_names, chain_weights, fractions, fraction_1D, figure, show_CIs = false)\n",
    "end"
   ]
  },
  {
   "cell_type": "code",
   "execution_count": 6,
   "metadata": {},
   "outputs": [
    {
     "name": "stdout",
     "output_type": "stream",
     "text": [
      "$\\log(M/M_{\\odot})$=1.0925^0.07000000000000006_0.09000000000000008\n",
      "$\\omega/\\omega_{crit}$=0.10250000000000001^0.035_0.020000000000000004\n"
     ]
    },
    {
     "name": "stdout",
     "output_type": "stream",
     "text": [
      "$\\alpha_\\mathrm{ov}$=1.3225^0.17500000000000004_0.705\n"
     ]
    },
    {
     "data": {
      "text/plain": [
       "CairoMakie.Screen{IMAGE}\n"
      ]
     },
     "metadata": {},
     "output_type": "display_data"
    }
   ],
   "source": [
    "using Makie\n",
    "figure = get_star_corner_plot(star_grid,star_chains)\n",
    "save(\"corner_plot.png\",figure)"
   ]
  },
  {
   "cell_type": "code",
   "execution_count": 8,
   "metadata": {},
   "outputs": [
    {
     "data": {
      "text/plain": [
       "\"/media/alina/20FCD8DF125DE0B0/work/work/project_pablo/StarStats.jl/test_notebook/HR.png\""
      ]
     },
     "metadata": {},
     "output_type": "display_data"
    }
   ],
   "source": [
    "using LaTeXStrings\n",
    "using Plots\n",
    "Plots.plot(legend=false,\n",
    "xflip=true, \n",
    "xlabel=L\"log (T$_{eff}$/K)\",\n",
    "ylabel=L\"log (L/L$_{\\odot}$)\")\n",
    "\n",
    "xvals = LinRange(0,5, 1000)\n",
    "rotation = 0.13\n",
    "logM = 1.21\n",
    "overshoot = 1.05\n",
    "logTeff = interpolate_grid_quantity.(Ref(star_grid),Ref([rotation,logM,overshoot]),:logTeff, xvals)\n",
    "logL = interpolate_grid_quantity.(Ref(star_grid),Ref([0.13,1.21,1.05]),:logL, xvals)\n",
    "\n",
    "Plots.plot!(logTeff, logL)\n",
    "savefig(\"HR.png\")"
   ]
  },
  {
   "cell_type": "code",
   "execution_count": null,
   "metadata": {},
   "outputs": [],
   "source": []
  }
 ],
 "metadata": {
  "kernelspec": {
   "display_name": "Julia 1.8.2",
   "language": "julia",
   "name": "julia-1.8"
  },
  "language_info": {
   "file_extension": ".jl",
   "mimetype": "application/julia",
   "name": "julia",
   "version": "1.8.2"
  }
 },
 "nbformat": 4,
 "nbformat_minor": 4
}

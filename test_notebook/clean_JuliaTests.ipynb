{
 "cells": [
  {
   "cell_type": "code",
   "execution_count": 1,
   "metadata": {},
   "outputs": [],
   "source": [
    "using StarStats"
   ]
  },
  {
   "cell_type": "markdown",
   "metadata": {},
   "source": [
    "Load the entire database of grids "
   ]
  },
  {
   "cell_type": "code",
   "execution_count": 2,
   "metadata": {},
   "outputs": [],
   "source": [
    "using Printf\n",
    "using BenchmarkTools\n",
    "function path_constructor(strings::Vector{String})\n",
    "    DATA_FOLDER = ENV[\"STARSTATS_TEST_DATA_FOLDER\"]\n",
    "    return DATA_FOLDER*\"/LMC/LMC_$(strings[1])_$(strings[2])_$(strings[3]).track.gz\"\n",
    "end\n",
    "masses = [@sprintf(\"%.3f\", x) for x in range(0.9,2.1,step=0.025)]\n",
    "rotation = [@sprintf(\"%.2f\", x) for x in range(0.0,0.9,step=0.1)]\n",
    "overshoot = [@sprintf(\"%.2f\", x) for x in range(0.5,4.5,step=0.5)]\n",
    "#change name grid to e.g. star_grid\n",
    "grid = ModelDataGrid([rotation,masses,overshoot],\n",
    "    [:rotation,:logM,:overshoot])\n",
    "#@benchmark \n",
    "load_grid(grid,path_constructor,gz_dataframe_loader_with_Teff_and_star_age_fix); \n",
    "compute_distances_and_EEPs(grid)"
   ]
  },
  {
   "cell_type": "code",
   "execution_count": 3,
   "metadata": {},
   "outputs": [
    {
     "data": {
      "text/plain": [
       "3-element Vector{Float64}:\n",
       "  0.2\n",
       "  0.2\n",
       " 10.0"
      ]
     },
     "metadata": {},
     "output_type": "display_data"
    }
   ],
   "source": [
    "observable_names = [:logTeff, :logL, :vrot]\n",
    "observable_values = [4.51974, 4.289877, 70.7195]\n",
    "observable_errors = [0.2, 0.2, 10]\n",
    "\n"
   ]
  },
  {
   "cell_type": "code",
   "execution_count": 4,
   "metadata": {},
   "outputs": [
    {
     "data": {
      "text/plain": [
       "star_model (generic function with 2 methods)"
      ]
     },
     "metadata": {},
     "output_type": "display_data"
    }
   ],
   "source": [
    "using Turing, Distributions\n",
    "\n",
    "@model function star_model(logTeff_obs, logTeff_err, logL_obs, logL_err, vrot_obs, vrot_err, grid)\n",
    "  x ~ Uniform(0,3)\n",
    "  logM ~ Uniform(0.9, 1.5)\n",
    "  rotation ~ Uniform(0,0.9)\n",
    "  overshoot ~ Uniform(0.5,1.5)\n",
    "  logTeff = interpolate_grid_quantity(grid,[rotation, logM, overshoot],:logTeff,x)\n",
    "  logL = interpolate_grid_quantity(grid,[rotation, logM, overshoot],:logL,x)\n",
    "  vrot = interpolate_grid_quantity(grid,[rotation, logM, overshoot],:vrot,x)\n",
    "  \n",
    "\n",
    "  logTeff_obs ~ Normal(logTeff, logTeff_err)\n",
    "  logL_obs ~ Normal(logL, logL_err)\n",
    "  vrot_obs ~ Normal(vrot, vrot_err)\n",
    "  return logTeff_obs, logL_obs, vrot_obs\n",
    "end"
   ]
  },
  {
   "cell_type": "code",
   "execution_count": 5,
   "metadata": {},
   "outputs": [
    {
     "data": {
      "text/plain": [
       "Chains MCMC chain (20000×16×4 Array{Float64, 3}):\n",
       "\n",
       "Iterations        = 501:1:20500\n",
       "Number of chains  = 4\n",
       "Samples per chain = 20000\n",
       "Wall duration     = 101.34 seconds\n",
       "Compute duration  = 95.02 seconds\n",
       "parameters        = x, logM, rotation, overshoot\n",
       "internals         = lp, n_steps, is_accept, acceptance_rate, log_density, hamiltonian_energy, hamiltonian_energy_error, max_hamiltonian_energy_error, tree_depth, numerical_error, step_size, nom_step_size\n",
       "\n",
       "Summary Statistics\n",
       " \u001b[1m parameters \u001b[0m \u001b[1m    mean \u001b[0m \u001b[1m     std \u001b[0m \u001b[1m naive_se \u001b[0m \u001b[1m    mcse \u001b[0m \u001b[1m        ess \u001b[0m \u001b[1m    rhat \u001b[0m \u001b[1m\u001b[0m ⋯\n",
       " \u001b[90m     Symbol \u001b[0m \u001b[90m Float64 \u001b[0m \u001b[90m Float64 \u001b[0m \u001b[90m  Float64 \u001b[0m \u001b[90m Float64 \u001b[0m \u001b[90m    Float64 \u001b[0m \u001b[90m Float64 \u001b[0m \u001b[90m\u001b[0m ⋯\n",
       "\n",
       "           x    1.0414    0.6294     0.0022    0.0048   17432.3589    1.0003   ⋯\n",
       "        logM    1.0863    0.0835     0.0003    0.0005   24619.1212    1.0002   ⋯\n",
       "    rotation    0.1218    0.0490     0.0002    0.0005   10558.2463    1.0009   ⋯\n",
       "   overshoot    0.9935    0.2895     0.0010    0.0015   40321.3079    1.0000   ⋯\n",
       "\u001b[36m                                                                1 column omitted\u001b[0m\n",
       "\n",
       "Quantiles\n",
       " \u001b[1m parameters \u001b[0m \u001b[1m    2.5% \u001b[0m \u001b[1m   25.0% \u001b[0m \u001b[1m   50.0% \u001b[0m \u001b[1m   75.0% \u001b[0m \u001b[1m   97.5% \u001b[0m\n",
       " \u001b[90m     Symbol \u001b[0m \u001b[90m Float64 \u001b[0m \u001b[90m Float64 \u001b[0m \u001b[90m Float64 \u001b[0m \u001b[90m Float64 \u001b[0m \u001b[90m Float64 \u001b[0m\n",
       "\n",
       "           x    0.0507    0.4952    1.0107    1.5696    2.1440\n",
       "        logM    0.9358    1.0258    1.0824    1.1430    1.2582\n",
       "    rotation    0.0505    0.0924    0.1161    0.1429    0.2275\n",
       "   overshoot    0.5230    0.7422    0.9889    1.2437    1.4738\n"
      ]
     },
     "metadata": {},
     "output_type": "display_data"
    }
   ],
   "source": [
    "using Logging\n",
    "Logging.disable_logging(Logging.Warn)\n",
    "## Here needs more analysis for optimization\n",
    "num_chains=4\n",
    "\n",
    "observed_star_model = star_model(4.51974, 0.2, 4.289877, 0.2, 70.7195, 20, grid)\n",
    "star_chains = mapreduce(c -> sample(observed_star_model, NUTS(500,0.9), 20000;stream=false, progress=true), chainscat, 1:num_chains)"
   ]
  },
  {
   "cell_type": "code",
   "execution_count": null,
   "metadata": {},
   "outputs": [],
   "source": [
    "#histogram(star_chains[:x],alpha=0.5,nbins=30)"
   ]
  },
  {
   "cell_type": "code",
   "execution_count": 6,
   "metadata": {},
   "outputs": [
    {
     "name": "stdout",
     "output_type": "stream",
     "text": [
      "length(logM) = 80000\n"
     ]
    }
   ],
   "source": [
    "#logM = star_chains[\n",
    " \n",
    "logM = star_chains[:,:logM, :1].data\n",
    "append!(logM,star_chains[:,:logM, :2].data)\n",
    "append!(logM,star_chains[:,:logM, :3].data)\n",
    "append!(logM,star_chains[:,:logM, :4].data)\n",
    "@show length(logM)\n",
    "\n",
    "rotation = star_chains[:,:rotation, :1].data\n",
    "append!(rotation,star_chains[:,:rotation, :2].data)\n",
    "append!(rotation,star_chains[:,:rotation, :3].data)\n",
    "append!(rotation,star_chains[:,:rotation, :4].data)\n",
    "\n",
    "overshoot= star_chains[:,:overshoot, :1].data\n",
    "append!(overshoot,star_chains[:,:overshoot, :2].data)\n",
    "append!(overshoot,star_chains[:,:overshoot, :3].data)\n",
    "append!(overshoot,star_chains[:,:overshoot, :4].data)\n",
    "\n",
    "x= star_chains[:,:x, :1].data\n",
    "append!(x,star_chains[:,:x, :2].data)\n",
    "append!(x,star_chains[:,:x, :3].data)\n",
    "append!(x,star_chains[:,:x, :4].data)\n",
    "\n",
    "\n",
    "##problem: how to get dtdx --- below is messed up \n",
    "dtdx=zeros(length(logM))\n",
    "for i in 1:length(logM)\n",
    "    dtdx[i]= interpolate_grid_quantity(grid,[rotation[i], logM[i], overshoot[i]],:dtdx,x[i])\n",
    "    #interpolate_grid_quantity.(Ref(grid),Ref([0.13,1.21,1.05]),:logTeff, xvals)\n",
    "end\n"
   ]
  },
  {
   "cell_type": "code",
   "execution_count": 7,
   "metadata": {},
   "outputs": [
    {
     "data": {
      "text/plain": [
       "chain_credible_interval (generic function with 1 method)"
      ]
     },
     "metadata": {},
     "output_type": "display_data"
    }
   ],
   "source": [
    "using QuadGK\n",
    "function chain_credible_interval(values, fraction,num_points,weights)\n",
    "    maxval= maximum(logM)\n",
    "    minval = minimum(logM)\n",
    "    my_kde = kde(logM, weights=weights)\n",
    "    kde_function = x-> pdf(my_kde, x)\n",
    "    \n",
    "    integral = quadgk(kde_function,minval,maxval, rtol=1e-8)[1]\n",
    "    \n",
    "    xvalues = collect(LinRange(minval,maxval,num_points))\n",
    "    yvalues = kde_function(xvalues)\n",
    "    max_valy = findmax(yvalues)\n",
    "    maxx = xvalues[max_valy[2]]\n",
    "    maxy = max_valy[1]\n",
    "    \n",
    "    function kde_function2(x, kde_function, bound)\n",
    "        value = kde_function(x)\n",
    "        if value>bound\n",
    "            return value\n",
    "        else\n",
    "            return 0\n",
    "        end\n",
    "    end\n",
    "    minbound = 0\n",
    "    maxbound = maxy\n",
    "    newbound = 0\n",
    "    for i in 1:15\n",
    "        newbound = 0.5*(minbound+maxbound)\n",
    "        integral2 = quadgk(x -> kde_function2(x,kde_function,newbound), minval, maxval, rtol=1e-8)[1]\n",
    "        newfraction = integral2/integral\n",
    "        if newfraction>fraction\n",
    "            minbound = newbound\n",
    "        else\n",
    "            maxbound = newbound\n",
    "        end\n",
    "    end\n",
    "    filtered_xvalues = xvalues[yvalues.>newbound]\n",
    "    return ([maximum(filtered_xvalues), maxx, minimum(filtered_xvalues)], newbound)\n",
    "end"
   ]
  },
  {
   "cell_type": "code",
   "execution_count": null,
   "metadata": {},
   "outputs": [],
   "source": [
    "num_points = 10000\n",
    "values = logM\n",
    "fraction = 0.9\n",
    "\n",
    "\n",
    "CI = chain_credible_interval(values, fraction, num_points,dtdx)\n",
    "#@show dtdx"
   ]
  },
  {
   "cell_type": "code",
   "execution_count": null,
   "metadata": {},
   "outputs": [],
   "source": [
    "observable_names = [:logTeff, :logL, :vrot]\n",
    "observable_values = [4.51974, 4.289877, 70.7195]\n",
    "observable_errors = [0.2, 0.2, 20]\n",
    "# potentially parallelize this\n",
    "grid_likelihood = ModelDataGridLikelihood(grid, observable_names, observable_values, observable_errors);\n",
    "CI2 = credible_interval(grid_likelihood, :logM,0.9,1_000_000)"
   ]
  },
  {
   "cell_type": "code",
   "execution_count": null,
   "metadata": {},
   "outputs": [],
   "source": [
    "#using Plots\n",
    "plot()\n",
    "ml= marginalized_likelihood(grid_likelihood,[:logM])\n",
    "plot!(grid.input_values[2], ml./maximum(ml))\n",
    "hline!([CI2[2]/maximum(ml)])\n",
    "vline!(CI2[1])\n",
    "\n",
    "my_kde = kde(logM, weights=dtdx)\n",
    "plot!(x->pdf(my_kde,x)/pdf(my_kde,CI[1][2]), xrange=[0.8, 2.1])\n",
    "\n",
    "hline!([CI[2]/pdf(my_kde,CI[1][2])])\n",
    "vline!(CI[1])"
   ]
  },
  {
   "cell_type": "markdown",
   "metadata": {},
   "source": [
    "To do :\n",
    "\n",
    "1. MCMC code into its own  file within package\n",
    "    - make sampling code work with arbitrary observables\n",
    "    - make credible interval code flexible \n",
    "    - optimize the credible interval code \n",
    "    - create  pretty corner plots \n",
    "    - \n",
    "2. grid computed \n",
    "3. create simple interpolation interface \n",
    "4. change longM with values in credible interval bla\n",
    "\n"
   ]
  },
  {
   "cell_type": "code",
   "execution_count": null,
   "metadata": {},
   "outputs": [],
   "source": [
    "using StatsPlots\n",
    "using HCubature\n",
    "using Interpolations\n",
    "using KernelDensity\n",
    "plot()\n",
    "#histogram2d(logM, rotation)\n",
    "my_kde2d = kde((logM,rotation),weights=dtdx)\n",
    "kde_function2d = x-> pdf(my_kde2d, x[1],x[2])\n",
    "#kde_function2d = (x,y)-> pdf(my_kde2d, x,y)\n",
    "\n",
    "contourf!(my_kde2d)\n",
    "\n"
   ]
  },
  {
   "cell_type": "code",
   "execution_count": null,
   "metadata": {},
   "outputs": [],
   "source": [
    "my_kde2d = kde((logM,rotation),weights=dtdx)\n",
    "kde_function2d =x-> pdf(my_kde2d, x[1],x[2]) #(x,y)-> pdf(my_kde2d, x,y) #\n",
    "values1= logM\n",
    "values2=rotation\n",
    "\n",
    "maxval1 = maximum(values1)\n",
    "minval1 = minimum(values1)\n",
    "maxval2 = maximum(values2)\n",
    "minval2 = minimum(values2)\n",
    "\n",
    "steps = 100\n",
    "my_x1 = LinRange(minval1, maxval1, steps)\n",
    "my_x2 = LinRange(minval2, maxval2, steps)\n",
    "\n",
    "evaluated_kde = zeros(steps, steps)\n",
    "for i in 1:steps\n",
    "    for j in 1:steps\n",
    "        evaluated_kde[i,j] = kde_function2d((my_x1[i],my_x2[j]))\n",
    "    end\n",
    "\n",
    " \n",
    "end \n",
    "\n",
    "# a = (minval1, minval2)\n",
    "# b = (maxval1, maxval2)\n",
    "\n",
    "# integral = hcubature(kde_function2d,[0.9, 0.0],[1.2,0.4], rtol=1e-4,initdiv=1)\n",
    "# @show integral\n",
    "#kde_function2d\n",
    "\n",
    "#"
   ]
  },
  {
   "cell_type": "code",
   "execution_count": null,
   "metadata": {},
   "outputs": [],
   "source": [
    "@benchmark kde_function2d((my_x1[1],my_x2[2]))"
   ]
  },
  {
   "cell_type": "code",
   "execution_count": null,
   "metadata": {},
   "outputs": [],
   "source": [
    "using StatsBase\n",
    "h = fit(Histogram,(logM,rotation),weights(dtdx),nbins=100)"
   ]
  },
  {
   "cell_type": "code",
   "execution_count": null,
   "metadata": {},
   "outputs": [],
   "source": [
    "y = diff(h.edges[1])/2 .+ h.edges[1][1:end-1]\n",
    "x = diff(h.edges[2])/2 .+ h.edges[2][1:end-1]\n",
    "heatmap(x, y, h.weights)\n",
    "\n"
   ]
  },
  {
   "cell_type": "code",
   "execution_count": null,
   "metadata": {},
   "outputs": [],
   "source": [
    "using Interpolations\n",
    "interpolator = interpolate((y,x), h.weights, Gridded(Linear()))\n",
    "@show x\n",
    "@show y\n",
    "\n"
   ]
  },
  {
   "cell_type": "code",
   "execution_count": null,
   "metadata": {},
   "outputs": [],
   "source": [
    "@show a = (x[1], y[1])\n",
    "@show b = (x[end], y[end])\n",
    "integral = hcubature(x-> interpolator(x[2],x[1]),a,b, rtol=1e-6,initdiv=1)\n"
   ]
  },
  {
   "cell_type": "code",
   "execution_count": 49,
   "metadata": {},
   "outputs": [
    {
     "data": {
      "text/plain": [
       "get_2D_plot (generic function with 1 method)"
      ]
     },
     "metadata": {},
     "output_type": "display_data"
    }
   ],
   "source": [
    "using StatsBase\n",
    "using CairoMakie\n",
    "function get_2D_plot(grid,star_chains,fractions)\n",
    "\n",
    "    f = Figure()\n",
    "    axis1=Axis(f[1, 1])\n",
    "    \n",
    "    logM = star_chains[:,:logM, :1].data\n",
    "    append!(logM,star_chains[:,:logM, :2].data)\n",
    "    append!(logM,star_chains[:,:logM, :3].data)\n",
    "    append!(logM,star_chains[:,:logM, :4].data)\n",
    "    \n",
    "    rotation = star_chains[:,:rotation, :1].data\n",
    "    append!(rotation,star_chains[:,:rotation, :2].data)\n",
    "    append!(rotation,star_chains[:,:rotation, :3].data)\n",
    "    append!(rotation,star_chains[:,:rotation, :4].data)\n",
    "\n",
    "    overshoot= star_chains[:,:overshoot, :1].data\n",
    "    append!(overshoot,star_chains[:,:overshoot, :2].data)\n",
    "    append!(overshoot,star_chains[:,:overshoot, :3].data)\n",
    "    append!(overshoot,star_chains[:,:overshoot, :4].data)\n",
    "\n",
    "    x= star_chains[:,:x, :1].data\n",
    "    append!(x,star_chains[:,:x, :2].data)\n",
    "    append!(x,star_chains[:,:x, :3].data)\n",
    "    append!(x,star_chains[:,:x, :4].data)\n",
    "\n",
    "    dtdx=zeros(length(logM))\n",
    "    for i in 1:length(logM)\n",
    "        dtdx[i]= interpolate_grid_quantity(grid,[rotation[i], logM[i], overshoot[i]],:dtdx,x[i])\n",
    "    end\n",
    "\n",
    "    h = fit(Histogram,(rotation,logM),weights(dtdx),nbins=100)\n",
    "    x= h.edges[2][1:end-1].+(h.edges[2][2:end].-h.edges[2][1:end-1])./2\n",
    "    y = h.edges[1][1:end-1].+(h.edges[1][2:end].-h.edges[1][1:end-1])./2\n",
    "    \n",
    "    \n",
    "    integral = sum(h.weights)\n",
    "    #smartely decide when the bisection is ended \n",
    "    heatmap!(axis1,y,x, h.weights)\n",
    "    bounds =zeros(length(fractions))\n",
    "    for (j,fraction) in enumerate(fractions)\n",
    "        minbound = 0\n",
    "        maxbound = maximum(h.weights)\n",
    "        newbound = 0\n",
    "        for i in 1:15\n",
    "            newbound = 0.5*(minbound+maxbound)\n",
    "            integral2 = sum(h.weights[h.weights.>newbound])\n",
    "            newfraction = integral2/integral\n",
    "            if newfraction>fraction\n",
    "                minbound = newbound\n",
    "            else\n",
    "                maxbound = newbound\n",
    "            end\n",
    "\n",
    "        end\n",
    "        bounds[j] = newbound\n",
    "        \n",
    "    end \n",
    "    #for bound in bounds\n",
    "    @show bounds\n",
    "    contour!(axis1,y,x, h.weights, levels=bounds,color=:black,linewidth=2)\n",
    "    #end\n",
    "    return f\n",
    "end  "
   ]
  },
  {
   "cell_type": "code",
   "execution_count": 50,
   "metadata": {},
   "outputs": [
    {
     "name": "stdout",
     "output_type": "stream",
     "text": [
      "bounds = [8.215919783558714e8, 4.182964291991063e8]\n"
     ]
    },
    {
     "data": {
      "image/png": "[encoded data removed]"
     },
     "metadata": {},
     "output_type": "display_data"
    }
   ],
   "source": [
    "\n",
    "get_2D_plot(grid, star_chains,(0.6, 0.8))"
   ]
  },
  {
   "cell_type": "code",
   "execution_count": null,
   "metadata": {},
   "outputs": [],
   "source": [
    "using QuadGK\n",
    "using HCubature\n",
    "function chain_credible_interval2d(values1,values2, fraction,num_points,weights)\n",
    "    maxval1 = maximum(values1)\n",
    "    minval1 = minimum(values1)\n",
    "    maxval2 = maximum(values2)\n",
    "    minval2 = minimum(values2)\n",
    "\n",
    "    my_kde2d = kde((values1,values2),weights=dtdx)\n",
    "    kde_function2d = (x,y)-> pdf(my_kde2d, x,y)\n",
    "    \n",
    "    a = [minval1, minval2]\n",
    "    b = [maxval1, maxval2]\n",
    "    integral = hcubature(my_kde2d, a, b; norm=norm, rtol=1e-8, atol=0, maxevals=typemax(Int), initdiv=1)[1]\n",
    "    quadgk(kde_function2d,minval,maxval, rtol=1e-8)[1]\n",
    "    \n",
    "    xvalues = collect(LinRange(minval,maxval,num_points))\n",
    "    yvalues = kde_function(xvalues)\n",
    "    max_valy = findmax(yvalues)\n",
    "    maxx = xvalues[max_valy[2]]\n",
    "    maxy = max_valy[1]\n",
    "    \n",
    "    function kde_function2(x, kde_function, bound)\n",
    "        value = kde_function(x)\n",
    "        if value>bound\n",
    "            return value\n",
    "        else\n",
    "            return 0\n",
    "        end\n",
    "    end\n",
    "    minbound = 0\n",
    "    maxbound = maxy\n",
    "    newbound = 0\n",
    "    for i in 1:15\n",
    "        newbound = 0.5*(minbound+maxbound)\n",
    "        integral2 = quadgk(x -> kde_function2(x,kde_function,newbound), minval, maxval, rtol=1e-8)[1]\n",
    "        newfraction = integral2/integral\n",
    "        if newfraction>fraction\n",
    "            minbound = newbound\n",
    "        else\n",
    "            maxbound = newbound\n",
    "        end\n",
    "    end\n",
    "    filtered_xvalues = xvalues[yvalues.>newbound]\n",
    "    return ([maximum(filtered_xvalues), maxx, minimum(filtered_xvalues)], newbound)\n",
    "end"
   ]
  }
 ],
 "metadata": {
  "kernelspec": {
   "display_name": "Julia 1.8.2",
   "language": "julia",
   "name": "julia-1.8"
  },
  "language_info": {
   "file_extension": ".jl",
   "mimetype": "application/julia",
   "name": "julia",
   "version": "1.8.2"
  }
 },
 "nbformat": 4,
 "nbformat_minor": 4
}

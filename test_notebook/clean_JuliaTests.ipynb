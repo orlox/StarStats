{
 "cells": [
  {
   "cell_type": "code",
   "execution_count": 1,
   "metadata": {},
   "outputs": [],
   "source": [
    "using StarStats"
   ]
  },
  {
   "cell_type": "markdown",
   "metadata": {},
   "source": [
    "Load the entire database of grids "
   ]
  },
  {
   "cell_type": "code",
   "execution_count": 2,
   "metadata": {},
   "outputs": [],
   "source": [
    "using Printf\n",
    "using BenchmarkTools\n",
    "function path_constructor(strings::Vector{String})\n",
    "    DATA_FOLDER = ENV[\"STARSTATS_TEST_DATA_FOLDER\"]\n",
    "    return DATA_FOLDER*\"/LMC/LMC_$(strings[1])_$(strings[2])_$(strings[3]).track.gz\"\n",
    "end\n",
    "masses = [@sprintf(\"%.3f\", x) for x in range(0.9,2.1,step=0.025)]\n",
    "rotation = [@sprintf(\"%.2f\", x) for x in range(0.0,0.9,step=0.1)]\n",
    "overshoot = [@sprintf(\"%.2f\", x) for x in range(0.5,4.5,step=0.5)]\n",
    "grid = ModelDataGrid([rotation,masses,overshoot],\n",
    "    [:rotation,:logM,:overshoot])\n",
    "#@benchmark \n",
    "load_grid(grid,path_constructor,gz_dataframe_loader_with_Teff_and_star_age_fix); \n",
    "compute_distances_and_EEPs(grid)"
   ]
  },
  {
   "cell_type": "code",
   "execution_count": 3,
   "metadata": {},
   "outputs": [
    {
     "data": {
      "text/plain": [
       "3-element Vector{Float64}:\n",
       "  0.2\n",
       "  0.2\n",
       " 10.0"
      ]
     },
     "metadata": {},
     "output_type": "display_data"
    }
   ],
   "source": [
    "observable_names = [:logTeff, :logL, :vrot]\n",
    "observable_values = [4.51974, 4.289877, 70.7195]\n",
    "observable_errors = [0.2, 0.2, 10]\n",
    "\n"
   ]
  },
  {
   "cell_type": "code",
   "execution_count": 108,
   "metadata": {},
   "outputs": [
    {
     "data": {
      "text/plain": [
       "star_model (generic function with 2 methods)"
      ]
     },
     "metadata": {},
     "output_type": "display_data"
    }
   ],
   "source": [
    "using Turing, Distributions\n",
    "\n",
    "@model function star_model(logTeff_obs, logTeff_err, logL_obs, logL_err, vrot_obs, vrot_err, grid)\n",
    "  x ~ Uniform(0,3)\n",
    "  logM ~ Uniform(0.9, 1.5)\n",
    "  rotation ~ Uniform(0,0.9)\n",
    "  overshoot ~ Uniform(0.5,1.5)\n",
    "  logTeff = interpolate_grid_quantity(grid,[rotation, logM, overshoot],:logTeff,x)\n",
    "  logL = interpolate_grid_quantity(grid,[rotation, logM, overshoot],:logL,x)\n",
    "  vrot = interpolate_grid_quantity(grid,[rotation, logM, overshoot],:vrot,x)\n",
    "  \n",
    "\n",
    "  logTeff_obs ~ Normal(logTeff, logTeff_err)\n",
    "  logL_obs ~ Normal(logL, logL_err)\n",
    "  vrot_obs ~ Normal(vrot, vrot_err)\n",
    "  return logTeff_obs, logL_obs, vrot_obs\n",
    "end"
   ]
  },
  {
   "cell_type": "code",
   "execution_count": 109,
   "metadata": {},
   "outputs": [
    {
     "data": {
      "text/plain": [
       "Chains MCMC chain (20000×16×4 Array{Float64, 3}):\n",
       "\n",
       "Iterations        = 501:1:20500\n",
       "Number of chains  = 4\n",
       "Samples per chain = 20000\n",
       "Wall duration     = 35.79 seconds\n",
       "Compute duration  = 34.99 seconds\n",
       "parameters        = x, logM, rotation, overshoot\n",
       "internals         = lp, n_steps, is_accept, acceptance_rate, log_density, hamiltonian_energy, hamiltonian_energy_error, max_hamiltonian_energy_error, tree_depth, numerical_error, step_size, nom_step_size\n",
       "\n",
       "Summary Statistics\n",
       " \u001b[1m parameters \u001b[0m \u001b[1m    mean \u001b[0m \u001b[1m     std \u001b[0m \u001b[1m naive_se \u001b[0m \u001b[1m    mcse \u001b[0m \u001b[1m        ess \u001b[0m \u001b[1m    rhat \u001b[0m \u001b[1m\u001b[0m ⋯\n",
       " \u001b[90m     Symbol \u001b[0m \u001b[90m Float64 \u001b[0m \u001b[90m Float64 \u001b[0m \u001b[90m  Float64 \u001b[0m \u001b[90m Float64 \u001b[0m \u001b[90m    Float64 \u001b[0m \u001b[90m Float64 \u001b[0m \u001b[90m\u001b[0m ⋯\n",
       "\n",
       "           x    1.0454    0.6324     0.0022    0.0055   15032.1002    1.0002   ⋯\n",
       "        logM    1.0864    0.0834     0.0003    0.0006   23204.1033    1.0001   ⋯\n",
       "    rotation    0.1223    0.0494     0.0002    0.0007    5255.3075    1.0012   ⋯\n",
       "   overshoot    0.9944    0.2882     0.0010    0.0014   37383.5831    1.0000   ⋯\n",
       "\u001b[36m                                                                1 column omitted\u001b[0m\n",
       "\n",
       "Quantiles\n",
       " \u001b[1m parameters \u001b[0m \u001b[1m    2.5% \u001b[0m \u001b[1m   25.0% \u001b[0m \u001b[1m   50.0% \u001b[0m \u001b[1m   75.0% \u001b[0m \u001b[1m   97.5% \u001b[0m\n",
       " \u001b[90m     Symbol \u001b[0m \u001b[90m Float64 \u001b[0m \u001b[90m Float64 \u001b[0m \u001b[90m Float64 \u001b[0m \u001b[90m Float64 \u001b[0m \u001b[90m Float64 \u001b[0m\n",
       "\n",
       "           x    0.0525    0.4948    1.0132    1.5821    2.1491\n",
       "        logM    0.9367    1.0253    1.0822    1.1429    1.2582\n",
       "    rotation    0.0511    0.0925    0.1160    0.1427    0.2343\n",
       "   overshoot    0.5238    0.7442    0.9919    1.2422    1.4745\n"
      ]
     },
     "metadata": {},
     "output_type": "display_data"
    }
   ],
   "source": [
    "using Logging\n",
    "Logging.disable_logging(Logging.Warn)\n",
    "## Here needs more analysis for optimization\n",
    "num_chains=4\n",
    "\n",
    "observed_star_model = star_model(4.51974, 0.2, 4.289877, 0.2, 70.7195, 20, grid)\n",
    "star_chains = mapreduce(c -> sample(observed_star_model, NUTS(500,0.9), 20000;stream=false, progress=true), chainscat, 1:num_chains)"
   ]
  },
  {
   "cell_type": "code",
   "execution_count": null,
   "metadata": {},
   "outputs": [],
   "source": [
    "histogram(star_chains[:x],alpha=0.5,nbins=30)"
   ]
  },
  {
   "cell_type": "code",
   "execution_count": 119,
   "metadata": {},
   "outputs": [],
   "source": [
    "#logM = star_chains[\n",
    " \n",
    "logM = star_chains[:,:logM, :1].data\n",
    "append!(logM,star_chains[:,:logM, :2].data)\n",
    "append!(logM,star_chains[:,:logM, :3].data)\n",
    "append!(logM,star_chains[:,:logM, :4].data)\n",
    "@show length(logM)\n",
    "\n",
    "rotation = star_chains[:,:rotation, :1].data\n",
    "append!(rotation,star_chains[:,:rotation, :2].data)\n",
    "append!(rotation,star_chains[:,:rotation, :3].data)\n",
    "append!(rotation,star_chains[:,:rotation, :4].data)\n",
    "\n",
    "overshoot= star_chains[:,:overshoot, :1].data\n",
    "append!(overshoot,star_chains[:,:overshoot, :2].data)\n",
    "append!(overshoot,star_chains[:,:overshoot, :3].data)\n",
    "append!(overshoot,star_chains[:,:overshoot, :4].data)\n",
    "\n",
    "x= star_chains[:,:x, :1].data\n",
    "append!(x,star_chains[:,:x, :2].data)\n",
    "append!(x,star_chains[:,:x, :3].data)\n",
    "append!(x,star_chains[:,:x, :4].data)\n",
    "\n",
    "\n",
    "##problem: how to get dtdx --- below is messed up \n",
    "dtdx=zeros(length(logM))\n",
    "for i in 1:length(logM)\n",
    "    dtdx[i]= interpolate_grid_quantity(grid,[0.13,1.21,1.05],:dxdt,x[i])\n",
    "    #interpolate_grid_quantity.(Ref(grid),Ref([0.13,1.21,1.05]),:logTeff, xvals)\n",
    "end\n"
   ]
  },
  {
   "cell_type": "code",
   "execution_count": 79,
   "metadata": {},
   "outputs": [
    {
     "data": {
      "text/plain": [
       "chain_credible_interval (generic function with 1 method)"
      ]
     },
     "metadata": {},
     "output_type": "display_data"
    }
   ],
   "source": [
    "using QuadGK\n",
    "function chain_credible_interval(values, fraction,num_points,weights)\n",
    "    maxval= maximum(logM)\n",
    "    minval = minimum(logM)\n",
    "    my_kde = kde(logM, weights=weights)\n",
    "    kde_function = x-> pdf(my_kde, x)\n",
    "    \n",
    "    integral = quadgk(kde_function,minval,maxval, rtol=1e-8)[1]\n",
    "    \n",
    "    xvalues = collect(LinRange(minval,maxval,num_points))\n",
    "    yvalues = kde_function(xvalues)\n",
    "    max_valy = findmax(yvalues)\n",
    "    maxx = xvalues[max_valy[2]]\n",
    "    maxy = max_valy[1]\n",
    "    \n",
    "    function kde_function2(x, kde_function, bound)\n",
    "        value = kde_function(x)\n",
    "        if value>bound\n",
    "            return value\n",
    "        else\n",
    "            return 0\n",
    "        end\n",
    "    end\n",
    "    minbound = 0\n",
    "    maxbound = maxy\n",
    "    newbound = 0\n",
    "    for i in 1:15\n",
    "        newbound = 0.5*(minbound+maxbound)\n",
    "        integral2 = quadgk(x -> kde_function2(x,kde_function,newbound), minval, maxval, rtol=1e-8)[1]\n",
    "        newfraction = integral2/integral\n",
    "        if newfraction>fraction\n",
    "            minbound = newbound\n",
    "        else\n",
    "            maxbound = newbound\n",
    "        end\n",
    "    end\n",
    "    filtered_xvalues = xvalues[yvalues.>newbound]\n",
    "    return ([maximum(filtered_xvalues), maxx, minimum(filtered_xvalues)], newbound)\n",
    "end"
   ]
  },
  {
   "cell_type": "code",
   "execution_count": 120,
   "metadata": {},
   "outputs": [
    {
     "data": {
      "text/plain": [
       "80000-element Vector{Float64}:\n",
       " NaN\n",
       " NaN\n",
       " NaN\n",
       " NaN\n",
       " NaN\n",
       " NaN\n",
       " NaN\n",
       " NaN\n",
       " NaN\n",
       " NaN\n",
       "   ⋮\n",
       " NaN\n",
       " NaN\n",
       " NaN\n",
       " NaN\n",
       " NaN\n",
       " NaN\n",
       " NaN\n",
       " NaN\n",
       " NaN"
      ]
     },
     "metadata": {},
     "output_type": "display_data"
    }
   ],
   "source": [
    "num_points = 10000\n",
    "values = logM\n",
    "fraction = 0.9\n",
    "\n",
    "\n",
    "#CI = chain_credible_interval(values, fraction, num_points,dtdx)\n",
    "@show dtdx"
   ]
  },
  {
   "cell_type": "code",
   "execution_count": 83,
   "metadata": {},
   "outputs": [
    {
     "data": {
      "text/plain": [
       "([1.2283107283107284, 1.125000225000225, 0.9642552642552642], 4192.989242514728)"
      ]
     },
     "metadata": {},
     "output_type": "display_data"
    }
   ],
   "source": [
    "observable_names = [:logTeff, :logL, :vrot]\n",
    "observable_values = [4.51974, 4.289877, 70.7195]\n",
    "observable_errors = [0.2, 0.2, 20]\n",
    "# potentially parallelize this\n",
    "grid_likelihood = ModelDataGridLikelihood(grid, observable_names, observable_values, observable_errors);\n",
    "CI2 = credible_interval(grid_likelihood, :logM,0.9,1_000_000)"
   ]
  },
  {
   "cell_type": "code",
   "execution_count": 84,
   "metadata": {},
   "outputs": [
    {
     "ename": "UndefVarError",
     "evalue": "UndefVarError: my_kde not defined",
     "output_type": "error",
     "traceback": [
      "UndefVarError: my_kde not defined\n",
      "\n",
      "Stacktrace:\n",
      "  [1] (::var\"#22#23\")(x::Float64)\n",
      "    @ Main /media/alina/20FCD8DF125DE0B0/work/work/project_pablo/StarStats.jl/test_notebook/clean_JuliaTests.ipynb:8\n",
      "  [2] call_composed\n",
      "    @ ./operators.jl:1039 [inlined]\n",
      "  [3] (::ComposedFunction{ComposedFunction{RecipesPipeline.var\"#1#2\"{Symbol}, var\"#22#23\"}, RecipesPipeline.var\"#3#4\"{Symbol}})(x::Float64; kw::Base.Pairs{Symbol, Union{}, Tuple{}, NamedTuple{(), Tuple{}}})\n",
      "    @ Base ./operators.jl:1035\n",
      "  [4] ComposedFunction\n",
      "    @ ./operators.jl:1033 [inlined]\n",
      "  [5] (::PlotUtils.var\"#27#29\"{ComposedFunction{ComposedFunction{RecipesPipeline.var\"#1#2\"{Symbol}, var\"#22#23\"}, RecipesPipeline.var\"#3#4\"{Symbol}}})(x::Float64)\n",
      "    @ PlotUtils ~/.julia/packages/PlotUtils/igbcf/src/adapted_grid.jl:49\n",
      "  [6] _broadcast_getindex_evalf\n",
      "    @ ./broadcast.jl:670 [inlined]\n",
      "  [7] _broadcast_getindex\n",
      "    @ ./broadcast.jl:643 [inlined]\n",
      "  [8] getindex\n",
      "    @ ./broadcast.jl:597 [inlined]\n",
      "  [9] copy\n",
      "    @ ./broadcast.jl:899 [inlined]\n",
      " [10] materialize(bc::Base.Broadcast.Broadcasted{Base.Broadcast.DefaultArrayStyle{1}, Nothing, PlotUtils.var\"#27#29\"{ComposedFunction{ComposedFunction{RecipesPipeline.var\"#1#2\"{Symbol}, var\"#22#23\"}, RecipesPipeline.var\"#3#4\"{Symbol}}}, Tuple{Vector{Float64}}})\n",
      "    @ Base.Broadcast ./broadcast.jl:860\n",
      " [11] adapted_grid(f::Any, minmax::Tuple{Float64, Float64}; max_recursions::Int64, max_curvature::Float64, n_points::Int64)\n",
      "    @ PlotUtils ~/.julia/packages/PlotUtils/igbcf/src/adapted_grid.jl:60\n",
      " [12] adapted_grid(f::Any, minmax::Tuple{Float64, Float64})\n",
      "    @ PlotUtils ~/.julia/packages/PlotUtils/igbcf/src/adapted_grid.jl:14\n",
      " [13] _scaled_adapted_grid(f::Function, xscale::Symbol, yscale::Symbol, xmin::Float64, xmax::Float64)\n",
      "    @ RecipesPipeline ~/.julia/packages/RecipesPipeline/XxUHt/src/user_recipe.jl:322\n",
      " [14] macro expansion\n",
      "    @ ~/.julia/packages/RecipesPipeline/XxUHt/src/user_recipe.jl:265 [inlined]\n",
      " [15] apply_recipe(plotattributes::AbstractDict{Symbol, Any}, f::Function, xmin::Number, xmax::Number)\n",
      "    @ RecipesPipeline ~/.julia/packages/RecipesBase/6AijY/src/RecipesBase.jl:299\n",
      " [16] _process_userrecipes!(plt::Any, plotattributes::Any, args::Any)\n",
      "    @ RecipesPipeline ~/.julia/packages/RecipesPipeline/XxUHt/src/user_recipe.jl:38\n",
      " [17] recipe_pipeline!(plt::Any, plotattributes::Any, args::Any)\n",
      "    @ RecipesPipeline ~/.julia/packages/RecipesPipeline/XxUHt/src/RecipesPipeline.jl:72\n",
      " [18] _plot!(plt::Plots.Plot, plotattributes::Any, args::Any)\n",
      "    @ Plots ~/.julia/packages/Plots/kYFLA/src/plot.jl:225\n",
      " [19] plot!(plt::Plots.Plot, args::Any; kw::Base.Pairs{Symbol, V, Tuple{Vararg{Symbol, N}}, NamedTuple{names, T}} where {V, N, names, T<:Tuple{Vararg{Any, N}}})\n",
      "    @ Plots ~/.julia/packages/Plots/kYFLA/src/plot.jl:215\n",
      " [20] plot!(args::Any; kw::Base.Pairs{Symbol, V, Tuple{Vararg{Symbol, N}}, NamedTuple{names, T}} where {V, N, names, T<:Tuple{Vararg{Any, N}}})\n",
      "    @ Plots ~/.julia/packages/Plots/kYFLA/src/plot.jl:204\n",
      " [21] top-level scope\n",
      "    @ /media/alina/20FCD8DF125DE0B0/work/work/project_pablo/StarStats.jl/test_notebook/clean_JuliaTests.ipynb:8"
     ]
    }
   ],
   "source": [
    "using Plots\n",
    "plot()\n",
    "ml= marginalized_likelihood(grid_likelihood,[:logM])\n",
    "plot!(grid.input_values[2], ml./maximum(ml))\n",
    "hline!([CI2[2]/maximum(ml)])\n",
    "vline!(CI2[1])\n",
    "\n",
    "plot!(x->pdf(my_kde,x)/pdf(my_kde,CI[1][2]), xrange=[0.8, 2.1])\n",
    "\n",
    "hline!([CI[2]/pdf(my_kde,CI[1][2])])\n",
    "vline!(CI[1])"
   ]
  },
  {
   "cell_type": "markdown",
   "metadata": {},
   "source": [
    "To do :\n",
    "\n",
    "1. MCMC code into its own  file within package\n",
    "    - make sampling code work with arbitrary observables\n",
    "    - make credible interval code flexible \n",
    "    - optimize the credible interval code \n",
    "    - create  pretty corner plots \n",
    "    - \n",
    "2. grid computed \n",
    "3. create simple interpolation interface \n",
    "4. change longM with values in credible interval bla\n",
    "\n"
   ]
  },
  {
   "cell_type": "code",
   "execution_count": 88,
   "metadata": {},
   "outputs": [
    {
     "ename": "TypeError",
     "evalue": "TypeError: in keyword argument weights, expected Union{KernelDensity.UniformWeights, AbstractVector{T} where T<:Real}, got a value of type Symbol",
     "output_type": "error",
     "traceback": [
      "TypeError: in keyword argument weights, expected Union{KernelDensity.UniformWeights, AbstractVector{T} where T<:Real}, got a value of type Symbol\n",
      "\n",
      "Stacktrace:\n",
      " [1] top-level scope\n",
      "   @ /media/alina/20FCD8DF125DE0B0/work/work/project_pablo/StarStats.jl/test_notebook/clean_JuliaTests.ipynb:6"
     ]
    }
   ],
   "source": [
    "using StatsPlots\n",
    "using HCubature\n",
    "using Interpolations\n",
    "using KernelDensity\n",
    "#histogram2d(logM, rotation)\n",
    "my_kde2d = kde((rotation,logM,),weights=dtdx)\n",
    "kde_function2d = x-> pdf(my_kde2d, x[1],x[2])\n",
    "#kde_function2d = (x,y)-> pdf(my_kde2d, x,y)\n",
    "\n",
    "#contourf(my_2dkde)\n",
    "\n",
    "values1= rotation\n",
    "\n",
    "values2=logM\n",
    "maxval1 = maximum(values1)\n",
    "minval1 = minimum(values1)\n",
    "maxval2 = maximum(values2)\n",
    "minval2 = minimum(values2)\n",
    "\n",
    "a = (minval1, minval2)\n",
    "b = (maxval1, maxval2)\n",
    "\n",
    "#integral = hcubature(kde_function2d, a, b)\n",
    "#@show integral\n",
    "\n",
    "@show a \n",
    "@show b"
   ]
  },
  {
   "cell_type": "code",
   "execution_count": null,
   "metadata": {},
   "outputs": [],
   "source": [
    "hcubature(x -> cos(x[1])*cos(x[2]), [0,0], [1,1])[1] "
   ]
  },
  {
   "cell_type": "code",
   "execution_count": null,
   "metadata": {},
   "outputs": [],
   "source": [
    "using QuadGK\n",
    "using HCubature\n",
    "function chain_credible_interval2d(values1,values2, fraction,num_points,weights)\n",
    "    maxval1 = maximum(values1)\n",
    "    minval1 = minimum(values1)\n",
    "    maxval2 = maximum(values2)\n",
    "    minval2 = minimum(values2)\n",
    "\n",
    "    my_kde2d = kde((values1,values2),weights=dtdx)\n",
    "    kde_function2d = (x,y)-> pdf(my_kde2d, x,y)\n",
    "    \n",
    "    a = [minval1, minval2]\n",
    "    b = [maxval1, maxval2]\n",
    "    integral = hcubature(my_kde2d, a, b; norm=norm, rtol=1e-8, atol=0, maxevals=typemax(Int), initdiv=1)[1]\n",
    "    quadgk(kde_function2d,minval,maxval, rtol=1e-8)[1]\n",
    "    \n",
    "    xvalues = collect(LinRange(minval,maxval,num_points))\n",
    "    yvalues = kde_function(xvalues)\n",
    "    max_valy = findmax(yvalues)\n",
    "    maxx = xvalues[max_valy[2]]\n",
    "    maxy = max_valy[1]\n",
    "    \n",
    "    function kde_function2(x, kde_function, bound)\n",
    "        value = kde_function(x)\n",
    "        if value>bound\n",
    "            return value\n",
    "        else\n",
    "            return 0\n",
    "        end\n",
    "    end\n",
    "    minbound = 0\n",
    "    maxbound = maxy\n",
    "    newbound = 0\n",
    "    for i in 1:15\n",
    "        newbound = 0.5*(minbound+maxbound)\n",
    "        integral2 = quadgk(x -> kde_function2(x,kde_function,newbound), minval, maxval, rtol=1e-8)[1]\n",
    "        newfraction = integral2/integral\n",
    "        if newfraction>fraction\n",
    "            minbound = newbound\n",
    "        else\n",
    "            maxbound = newbound\n",
    "        end\n",
    "    end\n",
    "    filtered_xvalues = xvalues[yvalues.>newbound]\n",
    "    return ([maximum(filtered_xvalues), maxx, minimum(filtered_xvalues)], newbound)\n",
    "end"
   ]
  }
 ],
 "metadata": {
  "kernelspec": {
   "display_name": "Julia 1.8.2",
   "language": "julia",
   "name": "julia-1.8"
  },
  "language_info": {
   "file_extension": ".jl",
   "mimetype": "application/julia",
   "name": "julia",
   "version": "1.8.2"
  }
 },
 "nbformat": 4,
 "nbformat_minor": 4
}
